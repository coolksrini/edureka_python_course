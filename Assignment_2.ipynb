{
  "nbformat": 4,
  "nbformat_minor": 0,
  "metadata": {
    "colab": {
      "provenance": [],
      "authorship_tag": "ABX9TyO75nHYxXVUMH83DXdiOZGh",
      "include_colab_link": true
    },
    "kernelspec": {
      "name": "python3",
      "display_name": "Python 3"
    },
    "language_info": {
      "name": "python"
    }
  },
  "cells": [
    {
      "cell_type": "markdown",
      "metadata": {
        "id": "view-in-github",
        "colab_type": "text"
      },
      "source": [
        "<a href=\"https://colab.research.google.com/github/coolksrini/edureka_python_course/blob/main/Assignment_2.ipynb\" target=\"_parent\"><img src=\"https://colab.research.google.com/assets/colab-badge.svg\" alt=\"Open In Colab\"/></a>"
      ]
    },
    {
      "cell_type": "markdown",
      "source": [
        "## 1. Smith wishes to register on a ticket booking website for booking bus tickets. To authenticate the registration, he needs to provide a user-id and password. There are some built-in rules for checking the validity of the passwords entered by the users. Following are the rules for checking the validity of a password:\n",
        "\n",
        "### i. At least 1 alphabet\n",
        "### ii. At least 1 digitbetween [0–9]\n",
        "### iii. At least 1 character from [@&]\n",
        "### iv. Minimum length of transaction password: 5\n",
        "### v. Maximum length of transaction password: 10\n",
        "\n"
      ],
      "metadata": {
        "id": "BNVA68ACRi0I"
      }
    },
    {
      "cell_type": "code",
      "execution_count": 1,
      "metadata": {
        "colab": {
          "base_uri": "https://localhost:8080/"
        },
        "id": "DLo2DMYeOuHX",
        "outputId": "ed1442e5-3269-4136-ff5b-2646d011e5af"
      },
      "outputs": [
        {
          "output_type": "stream",
          "name": "stdout",
          "text": [
            "True\n",
            "False\n",
            "False\n",
            "False\n"
          ]
        }
      ],
      "source": [
        "def validate_password(password):\n",
        "  \"\"\"\n",
        "  Validates a password based on the following rules:\n",
        "  i. At least 1 alphabet\n",
        "  ii. At least 1 digit between [0-9]\n",
        "  iii. At least 1 character from [@&]\n",
        "  iv. Minimum length of 5\n",
        "  v. Maximum length of 10\n",
        "\n",
        "  Args:\n",
        "    password: The password string to validate.\n",
        "\n",
        "  Returns:\n",
        "    True if the password is valid, False otherwise.\n",
        "  \"\"\"\n",
        "  if len(password) < 5 or len(password) > 10:\n",
        "    return False\n",
        "\n",
        "  has_alpha = False\n",
        "  has_digit = False\n",
        "  has_special = False\n",
        "\n",
        "  for char in password:\n",
        "    if 'a' <= char <= 'z' or 'A' <= char <= 'Z':\n",
        "      has_alpha = True\n",
        "    elif '0' <= char <= '9':\n",
        "      has_digit = True\n",
        "    elif char in ['@', '&']:\n",
        "      has_special = True\n",
        "\n",
        "  return has_alpha and has_digit and has_special\n",
        "\n",
        "# Example usage:\n",
        "print(validate_password(\"Pass1@\"))  # Should be True\n",
        "print(validate_password(\"password\")) # Should be False\n",
        "print(validate_password(\"p1@\"))      # Should be False\n",
        "print(validate_password(\"P@sswOrd123\")) # Should be False\n"
      ]
    },
    {
      "cell_type": "markdown",
      "source": [
        "## Write a program for printing all elements of a list and their indexes in the list. Take the list as user input."
      ],
      "metadata": {
        "id": "Q7tw2CeKSy3B"
      }
    },
    {
      "cell_type": "code",
      "source": [
        "input_list_str = input(\"Enter a list of elements separated by commas: \")\n",
        "my_list = input_list_str.split(',')\n",
        "\n",
        "for i in range(len(my_list)):\n",
        "  print(f\"Index: {i}, Element: {my_list[i].strip()}\")"
      ],
      "metadata": {
        "colab": {
          "base_uri": "https://localhost:8080/"
        },
        "id": "jEqLVo5YPEbW",
        "outputId": "ecaad5a2-b06d-47b4-efbf-a9e59af3edae"
      },
      "execution_count": 2,
      "outputs": [
        {
          "output_type": "stream",
          "name": "stdout",
          "text": [
            "Enter a list of elements separated by commas: 10,20\n",
            "Index: 0, Element: 10\n",
            "Index: 1, Element: 20\n"
          ]
        }
      ]
    },
    {
      "cell_type": "markdown",
      "source": [
        "## 3. Write  a  program that accepts a  string from the  console and prints the  characters that have even indexes if the character is an alphabet. Concatenate the characters and print.\n",
        "\n",
        "### **Example**\n",
        "### If the following string is given as input to the program: **Ed12ur3ka1Python12** then the output of the program should be: **EukPto**"
      ],
      "metadata": {
        "id": "qC3cfep9T7Lr"
      }
    },
    {
      "cell_type": "code",
      "source": [
        "input_str = input(\"Enter a string: \")\n",
        "output_str = \"\"\n",
        "\n",
        "for char in input_str:\n",
        "  if char.isalpha():\n",
        "    output_str += char\n",
        "\n",
        "print(output_str[::2])"
      ],
      "metadata": {
        "colab": {
          "base_uri": "https://localhost:8080/"
        },
        "id": "cEPX9ZzJPCue",
        "outputId": "a4aebdd1-5341-412f-b4fb-f84db9623cd1"
      },
      "execution_count": 3,
      "outputs": [
        {
          "output_type": "stream",
          "name": "stdout",
          "text": [
            "Enter a string: edure\n",
            "eue\n"
          ]
        }
      ]
    },
    {
      "cell_type": "markdown",
      "source": [
        "## 4. Please  write  a  program thataccepts  a  string  from the console  and  prints it  in reverse order.\n",
        "### **Example** If the following string is given as input to the program:  **welcome to edureka**\n",
        "### Then, the output of the program should be: **akerude ot emoclew**"
      ],
      "metadata": {
        "id": "IMD4Nw6-VgU7"
      }
    },
    {
      "cell_type": "code",
      "source": [
        "input_str = input(\"Enter a string: \")\n",
        "print(input_str[::-1])"
      ],
      "metadata": {
        "colab": {
          "base_uri": "https://localhost:8080/"
        },
        "id": "U3BUfxIaWC7l",
        "outputId": "38db11f4-d5af-4257-eb95-078180325e26"
      },
      "execution_count": 4,
      "outputs": [
        {
          "output_type": "stream",
          "name": "stdout",
          "text": [
            "Enter a string: adggwhg\n",
            "ghwggda\n"
          ]
        }
      ]
    },
    {
      "cell_type": "markdown",
      "source": [
        "## 5. Please write a program that counts and prints the numbers of each character in a string input by the console.\n",
        "\n",
        "### Example\n",
        "### If the following string is given as input to the program: **abcdefgabc**\n",
        "Then, the output of the program should be:\n",
        "#### a,2\n",
        "#### c,2\n",
        "#### b,2\n",
        "#### e,1\n",
        "#### d,1\n",
        "#### g,1\n",
        "#### f,1\n"
      ],
      "metadata": {
        "id": "7V9PvnKbWWUg"
      }
    },
    {
      "cell_type": "code",
      "source": [
        "input_str = input(\"Enter a string: \")\n",
        "char_count = {}\n",
        "\n",
        "for char in input_str:\n",
        "    char_count[char] = char_count.get(char, 0) + 1\n",
        "\n",
        "for char in char_count:\n",
        "    print(f\"{char},{char_count[char]}\")"
      ],
      "metadata": {
        "colab": {
          "base_uri": "https://localhost:8080/"
        },
        "id": "ZJp1U6XqWVkR",
        "outputId": "2329a537-5d02-431a-dd55-cefb26de37bf"
      },
      "execution_count": 5,
      "outputs": [
        {
          "output_type": "stream",
          "name": "stdout",
          "text": [
            "Enter a string: as923rfk\n",
            "a,1\n",
            "s,1\n",
            "9,1\n",
            "2,1\n",
            "3,1\n",
            "r,1\n",
            "f,1\n",
            "k,1\n"
          ]
        }
      ]
    },
    {
      "cell_type": "markdown",
      "source": [
        "## 6. With  two  given  lists  [1,5,10,12,34,13]  and  [4,7,8,10,5,13,24],  write  a  program  to create a new list whose elements are the intersection of the above-given lists."
      ],
      "metadata": {
        "id": "Kh8hYh62XRKL"
      }
    },
    {
      "cell_type": "code",
      "source": [
        "list1 = [1, 5, 10, 12, 34, 13]\n",
        "list2 = [4, 7, 8, 10, 5, 13, 24]\n",
        "list3 = list(set(list1) & set(list2))\n",
        "print(list3)"
      ],
      "metadata": {
        "colab": {
          "base_uri": "https://localhost:8080/"
        },
        "id": "PjZrTLjYPk_n",
        "outputId": "1a03d15d-2b26-4869-a1a1-c6ff829cea7d"
      },
      "execution_count": 6,
      "outputs": [
        {
          "output_type": "stream",
          "name": "stdout",
          "text": [
            "[10, 13, 5]\n"
          ]
        }
      ]
    },
    {
      "cell_type": "markdown",
      "source": [
        "## 7.By using list comprehension, please write a program to print the list after removing the values which are divisible by 6 in [12,24,35,24,88,120,155]."
      ],
      "metadata": {
        "id": "n9anAtZ5XwkS"
      }
    },
    {
      "cell_type": "code",
      "source": [
        "numbers = [12, 24, 35, 24, 88, 120, 155]\n",
        "new_numbers = [num for num in numbers if num % 6 != 0]\n",
        "print(new_numbers)"
      ],
      "metadata": {
        "colab": {
          "base_uri": "https://localhost:8080/"
        },
        "id": "eiOY7QEFPi2M",
        "outputId": "f733ef8d-51eb-43b1-f820-58e40838761b"
      },
      "execution_count": 7,
      "outputs": [
        {
          "output_type": "stream",
          "name": "stdout",
          "text": [
            "[35, 88, 155]\n"
          ]
        }
      ]
    },
    {
      "cell_type": "markdown",
      "source": [
        "## 8. By using list comprehension, please write a program to print the list after removing the 1st, 3rd, and 5th numbers in [12,24,35,70,88,120,155]."
      ],
      "metadata": {
        "id": "tn9AlcKiYmAM"
      }
    },
    {
      "cell_type": "code",
      "source": [
        "numbers = [12, 24, 35, 70, 88, 120, 155]\n",
        "\n",
        "new_numbers = [numbers[i] for i in range(len(numbers)) if i not in [0, 2, 4]]\n",
        "\n",
        "print(new_numbers)"
      ],
      "metadata": {
        "colab": {
          "base_uri": "https://localhost:8080/"
        },
        "id": "P4h5V_Q7P5bT",
        "outputId": "b286df1c-d8fd-4c9a-9ec3-f3c68c7c8c0b"
      },
      "execution_count": 8,
      "outputs": [
        {
          "output_type": "stream",
          "name": "stdout",
          "text": [
            "[24, 70, 120, 155]\n"
          ]
        }
      ]
    },
    {
      "cell_type": "markdown",
      "source": [
        "## 9.Please  write  a  program  to  randomly  generate  a  list  with 6 numbers,  which  are divisible by 5 and 7, between 1 and 1500 inclusive."
      ],
      "metadata": {
        "id": "XTVJYht6ZBM7"
      }
    },
    {
      "cell_type": "code",
      "source": [
        "import random\n",
        "\n",
        "rand_list = []\n",
        "for i in range(6):\n",
        "  while True:\n",
        "    num = random.randint(1, 1500)\n",
        "    if num % 5 == 0 and num % 7 == 0:\n",
        "      rand_list.append(num)\n",
        "      break\n",
        "\n",
        "print(rand_list)"
      ],
      "metadata": {
        "colab": {
          "base_uri": "https://localhost:8080/"
        },
        "id": "5Ft6h7xbQNxz",
        "outputId": "209477c5-4000-47b1-de84-a78e2c166f46"
      },
      "execution_count": 9,
      "outputs": [
        {
          "output_type": "stream",
          "name": "stdout",
          "text": [
            "[385, 1400, 1085, 1225, 1365, 1015]\n"
          ]
        }
      ]
    },
    {
      "cell_type": "markdown",
      "source": [
        "## 10. Write  a  program  to  compute  1/2+2/3+3/4+...+n/n+1  with  a  given  n  input  by console (n>0).\n",
        "\n",
        "### **Example**\n",
        "#### If the following n is given as input to the program: **5**\n",
        "Then, the output of the program should be: **3.55**"
      ],
      "metadata": {
        "id": "uCwwblSyZ2f8"
      }
    },
    {
      "cell_type": "code",
      "source": [
        "n = int(input(\"Enter a positive integer: \"))\n",
        "\n",
        "sum = 0\n",
        "for i in range(1, n+1):\n",
        "  sum += i/(i+1)\n",
        "print(sum)"
      ],
      "metadata": {
        "colab": {
          "base_uri": "https://localhost:8080/"
        },
        "id": "zqwNlUPVQWPU",
        "outputId": "3a0dca82-7a25-4c5c-9989-bf9229a0863a"
      },
      "execution_count": 10,
      "outputs": [
        {
          "output_type": "stream",
          "name": "stdout",
          "text": [
            "Enter a positive integer: 5\n",
            "3.5500000000000003\n"
          ]
        }
      ]
    },
    {
      "cell_type": "markdown",
      "source": [
        "## 11. Case Study\n",
        "\n",
        "### **Domain:** Banking\n",
        "### **Focus:** Optimization\n",
        "\n",
        "### **Business challenge/requirement**\n",
        "\n",
        "FinBank is the latest entrant in the banking market of Thailand.  The verification process for opening a bank account is done manually by reviewing the photocopy of the approved ID card. However, they have recently introduced a system where the customers’ fingerprintswill be mapped with the newly introduced Unique ID for citizens of Thailand by the government.\n",
        "\n",
        "FinBank should implement a system that verifies customers against their fingerprints and Unique Id.\n",
        "\n",
        "### **Key issues**\n",
        "Build a system where when a user enters a Unique ID,it getsencrypted so that hackers cannot view the mapping of the Unique ID and fingerprint.\n",
        "\n",
        "### **Considerations**\n",
        "The system should be secure.\n",
        "\n",
        "Data volume-NA\n",
        "\n",
        "Additional information-NA\n",
        "\n",
        "### **Business benefits**\n",
        "\n",
        "The bank will be able to verify customers’ data quickly, and the expected gain in volume is approximately ten times as the manual process of verification is replaced with asecure automated system.\n",
        "\n",
        "### **Approach to solve**\n",
        "\n",
        "1. Read the input from the command line – UniqueID.\n",
        "\n",
        "\n",
        "\n",
        "2. Check for validity of Unique ID – It should be 10 digits and must contain only numbers.\n",
        "3. Encrypt the UniqueID and print it.\n",
        "\n",
        "### **Enhancements for code**\n",
        "You can try these enhancements in code.\n",
        "\n",
        "1. Allow alphabets and some special characters in Unique ID\n",
        "2. Provide the option for decryption to the user."
      ],
      "metadata": {
        "id": "R3UIOyB7bDqF"
      }
    },
    {
      "cell_type": "code",
      "source": [
        "import sys\n",
        "\n",
        "def encrypt_unique_id(unique_id):\n",
        "  \"\"\"Encrypts the unique ID using a simple Caesar cipher.\"\"\"\n",
        "  encrypted_id = \"\"\n",
        "  for char in unique_id:\n",
        "    if char.isdigit():\n",
        "      encrypted_id += str((int(char) + 3) % 10)  # Shift digits by 3\n",
        "    elif char.isalpha():\n",
        "      start = ord('a') if char.islower() else ord('A')\n",
        "      encrypted_id += chr(start + (ord(char) - start + 3) % 26) # Shift letters by 3\n",
        "    else:\n",
        "      encrypted_id += char # Keep other characters as is\n",
        "  return encrypted_id\n",
        "\n",
        "def decrypt_unique_id(encrypted_id):\n",
        "  \"\"\"Decrypts the unique ID using a simple Caesar cipher.\"\"\"\n",
        "  decrypted_id = \"\"\n",
        "  for char in encrypted_id:\n",
        "    if char.isdigit():\n",
        "      decrypted_id += str((int(char) - 3) % 10) # Shift digits back by 3\n",
        "    elif char.isalpha():\n",
        "      start = ord('a') if char.islower() else ord('A')\n",
        "      decrypted_id += chr(start + (ord(char) - start - 3) % 26) # Shift letters back by 3\n",
        "    else:\n",
        "      decrypted_id += char # Keep other characters as is\n",
        "  return decrypted_id\n",
        "\n",
        "def main():\n",
        "  input_str = input(\"Enter your Unique ID: \")\n",
        "\n",
        "  # Basic validation (10 digits, numbers only)\n",
        "  # if not input_str.isdigit() or len(input_str) != 10:\n",
        "  #   print(\"Invalid Unique ID. It must be 10 digits and contain only numbers.\")\n",
        "\n",
        "  # Enhanced validation (allowing alphabets and some special characters)\n",
        "  is_valid = True\n",
        "  allowed_chars = \"0123456789abcdefghijklmnopqrstuvwxyzABCDEFGHIJKLMNOPQRSTUVWXYZ@&\"\n",
        "  for char in input_str:\n",
        "    if char not in allowed_chars:\n",
        "      is_valid = False\n",
        "      break\n",
        "\n",
        "  if not is_valid or len(input_str) != 10:\n",
        "      print(\"Invalid Unique ID. It must be 10 characters and contain only numbers, alphabets, or '@', '&'.\")\n",
        "      return\n",
        "\n",
        "  encrypted_id = encrypt_unique_id(input_str)\n",
        "  print(f\"Encrypted Unique ID: {encrypted_id}\")\n",
        "\n",
        "  decrypt_option = input(\"Do you want to decrypt the ID? (yes/no): \").lower()\n",
        "  if decrypt_option == 'yes':\n",
        "    decrypted_id = decrypt_unique_id(encrypted_id)\n",
        "    print(f\"Decrypted Unique ID: {decrypted_id}\")\n",
        "\n",
        "main()"
      ],
      "metadata": {
        "colab": {
          "base_uri": "https://localhost:8080/"
        },
        "id": "gN7nbjhAcb-O",
        "outputId": "bb11914b-bdbe-40fa-e678-2c1bcf5051a2"
      },
      "execution_count": 12,
      "outputs": [
        {
          "output_type": "stream",
          "name": "stdout",
          "text": [
            "Enter your Unique ID: q913dc0@ah\n",
            "Encrypted Unique ID: t246gf3@dk\n",
            "Do you want to decrypt the ID? (yes/no): yes\n",
            "Decrypted Unique ID: q913dc0@ah\n"
          ]
        }
      ]
    }
  ]
}
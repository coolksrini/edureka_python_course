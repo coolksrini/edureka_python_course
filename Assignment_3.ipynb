{
  "nbformat": 4,
  "nbformat_minor": 0,
  "metadata": {
    "colab": {
      "provenance": [],
      "authorship_tag": "ABX9TyP9n0YujFTyrod9c48BBHdk",
      "include_colab_link": true
    },
    "kernelspec": {
      "name": "python3",
      "display_name": "Python 3"
    },
    "language_info": {
      "name": "python"
    }
  },
  "cells": [
    {
      "cell_type": "markdown",
      "metadata": {
        "id": "view-in-github",
        "colab_type": "text"
      },
      "source": [
        "<a href=\"https://colab.research.google.com/github/coolksrini/edureka_python_course/blob/main/Assignment_3.ipynb\" target=\"_parent\"><img src=\"https://colab.research.google.com/assets/colab-badge.svg\" alt=\"Open In Colab\"/></a>"
      ]
    },
    {
      "cell_type": "markdown",
      "source": [
        "## 1. Create a dog object that will inherit all the variables and methods of the parent class Animal and display it."
      ],
      "metadata": {
        "id": "rdF1uAZWZa9o"
      }
    },
    {
      "cell_type": "code",
      "execution_count": 9,
      "metadata": {
        "colab": {
          "base_uri": "https://localhost:8080/"
        },
        "id": "nxOAXNuXX5FR",
        "outputId": "c97a4d67-01e2-4df6-b9f9-908f83b2b440"
      },
      "outputs": [
        {
          "output_type": "stream",
          "name": "stdout",
          "text": [
            "Name: Buddy\n",
            "Species: Dog\n",
            "Breed: Golden Retriever\n"
          ]
        }
      ],
      "source": [
        "class Animal:\n",
        "    def __init__(self, name, species):\n",
        "        self.name = name\n",
        "        self.species = species\n",
        "\n",
        "    def show_details(self):\n",
        "        print(f\"Name: {self.name}\")\n",
        "        print(f\"Species: {self.species}\")\n",
        "\n",
        "class Dog(Animal):\n",
        "    def __init__(self, name, breed):\n",
        "        super().__init__(name, species=\"Dog\")\n",
        "        self.breed = breed\n",
        "\n",
        "    def show_details(self):\n",
        "        super().show_details()\n",
        "        print(f\"Breed: {self.breed}\")\n",
        "\n",
        "# Create a Dog object\n",
        "my_dog = Dog(\"Buddy\", \"Golden Retriever\")\n",
        "\n",
        "# Display the Dog object details\n",
        "my_dog.show_details()"
      ]
    },
    {
      "cell_type": "markdown",
      "source": [
        "## 2. Demonstrate the working of Polymorphism by creating two classes -Car and Bike. Display the information like name, color, and number of wheels."
      ],
      "metadata": {
        "id": "W0-upuhrZ8W0"
      }
    },
    {
      "cell_type": "code",
      "source": [
        "class Car:\n",
        "    def __init__(self, name, color):\n",
        "        self.name = name\n",
        "        self.color = color\n",
        "        self.wheels = 4\n",
        "\n",
        "    def display_info(self):\n",
        "        print(f\"Vehicle Type: Car\")\n",
        "        print(f\"Name: {self.name}\")\n",
        "        print(f\"Color: {self.color}\")\n",
        "        print(f\"Number of wheels: {self.wheels}\")\n",
        "\n",
        "class Bike:\n",
        "    def __init__(self, name, color):\n",
        "        self.name = name\n",
        "        self.color = color\n",
        "        self.wheels = 2\n",
        "\n",
        "    def display_info(self):\n",
        "        print(f\"Vehicle Type: Bike\")\n",
        "        print(f\"Name: {self.name}\")\n",
        "        print(f\"Color: {self.color}\")\n",
        "        print(f\"Number of wheels: {self.wheels}\")\n",
        "\n",
        "# Demonstrate polymorphism\n",
        "vehicles = [Car(\"Sedan\", \"Red\"), Bike(\"Cruiser\", \"Black\")]\n",
        "\n",
        "for vehicle in vehicles:\n",
        "    vehicle.display_info()\n",
        "    print(\"-\" * 20)"
      ],
      "metadata": {
        "colab": {
          "base_uri": "https://localhost:8080/"
        },
        "id": "T7JMjSp9YFtD",
        "outputId": "eaaf95ca-a162-43ba-c62f-8c41a94c792d"
      },
      "execution_count": 10,
      "outputs": [
        {
          "output_type": "stream",
          "name": "stdout",
          "text": [
            "Vehicle Type: Car\n",
            "Name: Sedan\n",
            "Color: Red\n",
            "Number of wheels: 4\n",
            "--------------------\n",
            "Vehicle Type: Bike\n",
            "Name: Cruiser\n",
            "Color: Black\n",
            "Number of wheels: 2\n",
            "--------------------\n"
          ]
        }
      ]
    },
    {
      "cell_type": "markdown",
      "source": [
        "## 3. Create a list of tuples containing the 5 planets of our solar system along with their moons as-earth having 1 moon, Jupiter having 79 moons, Saturnhaving 82 moons, Uranushaving 27 moons and Neptunehaving 14 moons.Sort the list according to the ascending number of moons along with the names of planet using Lambda function. Display both original and sorted list."
      ],
      "metadata": {
        "id": "SX-ltJj-aWeK"
      }
    },
    {
      "cell_type": "code",
      "source": [
        "planets_moons = [\n",
        "    (\"Earth\", 1),\n",
        "    (\"Jupiter\", 79),\n",
        "    (\"Saturn\", 82),\n",
        "    (\"Uranus\", 27),\n",
        "    (\"Neptune\", 14)\n",
        "]\n",
        "\n",
        "print(\"Original list:\")\n",
        "print(planets_moons)\n",
        "\n",
        "sorted_planets_moons = sorted(planets_moons, key=lambda item: item[1])\n",
        "\n",
        "print(\"\\nSorted list (by number of moons):\")\n",
        "print(sorted_planets_moons)"
      ],
      "metadata": {
        "colab": {
          "base_uri": "https://localhost:8080/"
        },
        "id": "Kmltygq8YJ7v",
        "outputId": "49396d31-0ab5-4c96-b7cd-bb6c26d56378"
      },
      "execution_count": 11,
      "outputs": [
        {
          "output_type": "stream",
          "name": "stdout",
          "text": [
            "Original list:\n",
            "[('Earth', 1), ('Jupiter', 79), ('Saturn', 82), ('Uranus', 27), ('Neptune', 14)]\n",
            "\n",
            "Sorted list (by number of moons):\n",
            "[('Earth', 1), ('Neptune', 14), ('Uranus', 27), ('Jupiter', 79), ('Saturn', 82)]\n"
          ]
        }
      ]
    },
    {
      "cell_type": "markdown",
      "source": [
        "## 4. Create two functions -fillup and use, which uses a global variable as tank. Use the global variable in both the functions to return the quantity of fuel present in the tank after filling up the tank and after using the fuel of the tank. Show the working of two functions only. It is not necessary to display the outputs."
      ],
      "metadata": {
        "id": "nwleQAqWavRS"
      }
    },
    {
      "cell_type": "code",
      "source": [
        "tank = 100 # Global variable\n",
        "\n",
        "def fillup(quantity):\n",
        "  \"\"\"Fills the tank with a given quantity of fuel.\"\"\"\n",
        "  global tank\n",
        "  tank += quantity\n",
        "  return tank\n",
        "\n",
        "def use(quantity):\n",
        "  \"\"\"Uses a given quantity of fuel from the tank.\"\"\"\n",
        "  global tank\n",
        "  tank -= quantity\n",
        "  return tank\n",
        "\n",
        "# Demonstrate the working of the functions (outputs not required)\n",
        "fillup(50)\n",
        "use(20)"
      ],
      "metadata": {
        "colab": {
          "base_uri": "https://localhost:8080/"
        },
        "id": "l_z7NOsHYbHJ",
        "outputId": "8949def6-f106-407d-c273-4f47858485f6"
      },
      "execution_count": 12,
      "outputs": [
        {
          "output_type": "execute_result",
          "data": {
            "text/plain": [
              "130"
            ]
          },
          "metadata": {},
          "execution_count": 12
        }
      ]
    },
    {
      "cell_type": "markdown",
      "source": [
        "## 5. Write a program to depict the use of multiple inheritance. The program should contain 4 classes -class 4 should inherit from class 2 and class 3. Similarly, class 2 should inherit from class 1. Class 3 should inherit from class 1. Each class should have its own print statement."
      ],
      "metadata": {
        "id": "-fLStKg0a_sl"
      }
    },
    {
      "cell_type": "code",
      "source": [
        "class Class1:\n",
        "    def __init__(self):\n",
        "        print(\"Inside Class1\")\n",
        "\n",
        "class Class2(Class1):\n",
        "    def __init__(self):\n",
        "        super().__init__()\n",
        "        print(\"Inside Class2\")\n",
        "\n",
        "class Class3(Class1):\n",
        "    def __init__(self):\n",
        "        super().__init__()\n",
        "        print(\"Inside Class3\")\n",
        "\n",
        "class Class4(Class2, Class3):\n",
        "    def __init__(self):\n",
        "        super().__init__()\n",
        "        print(\"Inside Class4\")\n",
        "\n",
        "# Create an object of Class4 to demonstrate multiple inheritance\n",
        "obj = Class4()"
      ],
      "metadata": {
        "colab": {
          "base_uri": "https://localhost:8080/"
        },
        "id": "Sk9CfGchbH73",
        "outputId": "2b29789e-637d-4429-a8ad-1f3ff94e2276"
      },
      "execution_count": 13,
      "outputs": [
        {
          "output_type": "stream",
          "name": "stdout",
          "text": [
            "Inside Class1\n",
            "Inside Class3\n",
            "Inside Class2\n",
            "Inside Class4\n"
          ]
        }
      ]
    },
    {
      "cell_type": "markdown",
      "source": [
        "## 6. Use Getter and Setter method to set the name and age of a person. Moreover, get the name and age of the same person."
      ],
      "metadata": {
        "id": "T6a9PboFbsE8"
      }
    },
    {
      "cell_type": "code",
      "source": [
        "class Person:\n",
        "    def __init__(self, name, age):\n",
        "        self._name = name  # Using _ convention for protected attribute\n",
        "        self._age = age    # Using _ convention for protected attribute\n",
        "\n",
        "    # Getter for name\n",
        "    def get_name(self):\n",
        "        return self._name\n",
        "\n",
        "    # Setter for name\n",
        "    def set_name(self, name):\n",
        "        self._name = name\n",
        "\n",
        "    # Getter for age\n",
        "    def get_age(self):\n",
        "        return self._age\n",
        "\n",
        "    # Setter for age\n",
        "    def set_age(self, age):\n",
        "        if age > 0:  # Simple validation for age\n",
        "            self._age = age\n",
        "        else:\n",
        "            print(\"Age cannot be negative.\")\n",
        "\n",
        "# Create a Person object\n",
        "person1 = Person(\"Alice\", 30)\n",
        "\n",
        "# Get and display initial values\n",
        "print(f\"Initial Name: {person1.get_name()}\")\n",
        "print(f\"Initial Age: {person1.get_age()}\")\n",
        "\n",
        "# Set new values using setters\n",
        "person1.set_name(\"Bob\")\n",
        "person1.set_age(35)\n",
        "\n",
        "# Get and display updated values\n",
        "print(f\"Updated Name: {person1.get_name()}\")\n",
        "print(f\"Updated Age: {person1.get_age()}\")\n",
        "\n",
        "# Attempt to set invalid age\n",
        "person1.set_age(-5)"
      ],
      "metadata": {
        "colab": {
          "base_uri": "https://localhost:8080/"
        },
        "id": "F65uc4xnZD_a",
        "outputId": "7fd6bee2-11e0-4e21-8497-c5358a99ea25"
      },
      "execution_count": 14,
      "outputs": [
        {
          "output_type": "stream",
          "name": "stdout",
          "text": [
            "Initial Name: Alice\n",
            "Initial Age: 30\n",
            "Updated Name: Bob\n",
            "Updated Age: 35\n",
            "Age cannot be negative.\n"
          ]
        }
      ]
    }
  ]
}
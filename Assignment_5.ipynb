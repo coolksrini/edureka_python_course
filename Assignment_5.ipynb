{
  "nbformat": 4,
  "nbformat_minor": 0,
  "metadata": {
    "colab": {
      "provenance": [],
      "authorship_tag": "ABX9TyND8Tz+CAEborWvaogu76pG",
      "include_colab_link": true
    },
    "kernelspec": {
      "name": "python3",
      "display_name": "Python 3"
    },
    "language_info": {
      "name": "python"
    }
  },
  "cells": [
    {
      "cell_type": "markdown",
      "metadata": {
        "id": "view-in-github",
        "colab_type": "text"
      },
      "source": [
        "<a href=\"https://colab.research.google.com/github/coolksrini/edureka_python_course/blob/main/Assignment_5.ipynb\" target=\"_parent\"><img src=\"https://colab.research.google.com/assets/colab-badge.svg\" alt=\"Open In Colab\"/></a>"
      ]
    },
    {
      "cell_type": "markdown",
      "source": [
        "## 1. Convert the given list into a numpy array and replace the odd elements with -2.\n",
        "Lst=[[1,2,3], [4,5,6], [7,8,9]]"
      ],
      "metadata": {
        "id": "ZfpxOwopP7Qg"
      }
    },
    {
      "cell_type": "code",
      "execution_count": 10,
      "metadata": {
        "colab": {
          "base_uri": "https://localhost:8080/"
        },
        "id": "SyjiyWddM2L1",
        "outputId": "4ae9fe97-faae-4c12-9bd7-9cfb46dd20fd"
      },
      "outputs": [
        {
          "output_type": "stream",
          "name": "stdout",
          "text": [
            "[[-2  2 -2]\n",
            " [ 4 -2  6]\n",
            " [-2  8 -2]]\n"
          ]
        }
      ],
      "source": [
        "import numpy as np\n",
        "\n",
        "Lst = [[1, 2, 3], [4, 5, 6], [7, 8, 9]]\n",
        "arr = np.array(Lst)\n",
        "arr[arr % 2 != 0] = -2\n",
        "print(arr)"
      ]
    },
    {
      "cell_type": "markdown",
      "source": [
        "## 2. In the numpy array given below print all the elements ranging from 8 to 15.\n",
        "arr = [1,2,3,4,5,8,9,10,12,22,32,54,99,6,7]"
      ],
      "metadata": {
        "id": "efb3AY1GRBRi"
      }
    },
    {
      "cell_type": "code",
      "metadata": {
        "colab": {
          "base_uri": "https://localhost:8080/"
        },
        "id": "209602ef",
        "outputId": "2fd42034-3fe7-426e-e7a4-1f9a488052e8"
      },
      "source": [
        "import numpy as np\n",
        "\n",
        "arr = np.array([1, 2, 3, 4, 5, 8, 9, 10, 12, 22, 32, 54, 99, 6, 7])\n",
        "print(arr[(arr >= 8) & (arr <= 15)])"
      ],
      "execution_count": 11,
      "outputs": [
        {
          "output_type": "stream",
          "name": "stdout",
          "text": [
            "[ 8  9 10 12]\n"
          ]
        }
      ]
    },
    {
      "cell_type": "markdown",
      "source": [
        "## 3. Create a 3*3 narray that includes numbers from 1 to 9 and swap columns 1 and 2."
      ],
      "metadata": {
        "id": "1jbgOOjTRSOK"
      }
    },
    {
      "cell_type": "code",
      "source": [
        "import numpy as np\n",
        "\n",
        "arr = np.arange(1, 10).reshape(3, 3)\n",
        "print(\"Original array:\")\n",
        "print(arr)\n",
        "\n",
        "# Swap columns 1 and 2 (0-indexed)\n",
        "arr[:, [0, 1]] = arr[:, [1, 0]]\n",
        "\n",
        "print(\"\\nArray after swapping columns 1 and 2:\")\n",
        "print(arr)"
      ],
      "metadata": {
        "colab": {
          "base_uri": "https://localhost:8080/"
        },
        "id": "ndiR0fM8Rqp3",
        "outputId": "53646bf7-8003-498d-ff92-3d547357ed59"
      },
      "execution_count": 12,
      "outputs": [
        {
          "output_type": "stream",
          "name": "stdout",
          "text": [
            "Original array:\n",
            "[[1 2 3]\n",
            " [4 5 6]\n",
            " [7 8 9]]\n",
            "\n",
            "Array after swapping columns 1 and 2:\n",
            "[[2 1 3]\n",
            " [5 4 6]\n",
            " [8 7 9]]\n"
          ]
        }
      ]
    },
    {
      "cell_type": "markdown",
      "source": [
        "## 4. In the given numpy array replace the NaN values with the average of columns:\n",
        "arr= np.array([[1.3, 2.5, 3.6, np.nan], [2.6, 3.3, np.nan, 5.5], [2.1, 3.2, 5.4, 6.5]])"
      ],
      "metadata": {
        "id": "Shf80dRsR9Ul"
      }
    },
    {
      "cell_type": "code",
      "source": [
        "import numpy as np\n",
        "\n",
        "arr = np.array([[1.3, 2.5, 3.6, np.nan], [2.6, 3.3, np.nan, 5.5], [2.1, 3.2, 5.4, 6.5]])\n",
        "\n",
        "# Calculate the mean of each column, ignoring NaN values\n",
        "col_means = np.nanmean(arr, axis=0)\n",
        "\n",
        "# Find indices where the array has NaN values\n",
        "nan_indices = np.isnan(arr)\n",
        "\n",
        "# Replace NaN values with the corresponding column mean\n",
        "arr[nan_indices] = col_means[np.where(nan_indices)[1]]\n",
        "\n",
        "print(arr)"
      ],
      "metadata": {
        "colab": {
          "base_uri": "https://localhost:8080/"
        },
        "id": "OCIwXS-WSE7p",
        "outputId": "580ac272-81b8-479c-ed3c-3d081890ffc2"
      },
      "execution_count": 13,
      "outputs": [
        {
          "output_type": "stream",
          "name": "stdout",
          "text": [
            "[[1.3 2.5 3.6 6. ]\n",
            " [2.6 3.3 4.5 5.5]\n",
            " [2.1 3.2 5.4 6.5]]\n"
          ]
        }
      ]
    },
    {
      "cell_type": "markdown",
      "source": [
        "## 5. For the numpy array given below perform the following operation:\n",
        "i. Convert the numpy array into a numpy matrix\n",
        "\n",
        "ii. Sort the values in a matrix\n",
        "\n",
        "arr = [[2,4,6],[1,3,5]]"
      ],
      "metadata": {
        "id": "nFiKPpzxSeGd"
      }
    },
    {
      "cell_type": "code",
      "source": [
        "import numpy as np\n",
        "\n",
        "arr = np.array([[2, 4, 6], [1, 3, 5]])\n",
        "\n",
        "# Convert the numpy array into a numpy matrix\n",
        "matrix = np.asmatrix(arr)\n",
        "print(\"Matrix:\")\n",
        "print(matrix)\n",
        "\n",
        "# Sort the values in the matrix (sorts in-place)\n",
        "matrix.sort()\n",
        "\n",
        "print(\"\\nSorted matrix:\")\n",
        "print(matrix)"
      ],
      "metadata": {
        "colab": {
          "base_uri": "https://localhost:8080/"
        },
        "id": "KRdlFPORSxPD",
        "outputId": "7a196403-0f8d-4251-f5c5-4309424e359b"
      },
      "execution_count": 16,
      "outputs": [
        {
          "output_type": "stream",
          "name": "stdout",
          "text": [
            "Matrix:\n",
            "[[2 4 6]\n",
            " [1 3 5]]\n",
            "\n",
            "Sorted matrix:\n",
            "[[2 4 6]\n",
            " [1 3 5]]\n"
          ]
        }
      ]
    }
  ]
}
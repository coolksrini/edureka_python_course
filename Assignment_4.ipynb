{
  "nbformat": 4,
  "nbformat_minor": 0,
  "metadata": {
    "colab": {
      "provenance": [],
      "authorship_tag": "ABX9TyM2tjepkNhv8CtLk8YDKNGi",
      "include_colab_link": true
    },
    "kernelspec": {
      "name": "python3",
      "display_name": "Python 3"
    },
    "language_info": {
      "name": "python"
    }
  },
  "cells": [
    {
      "cell_type": "markdown",
      "metadata": {
        "id": "view-in-github",
        "colab_type": "text"
      },
      "source": [
        "<a href=\"https://colab.research.google.com/github/coolksrini/edureka_python_course/blob/main/Assignment_4.ipynb\" target=\"_parent\"><img src=\"https://colab.research.google.com/assets/colab-badge.svg\" alt=\"Open In Colab\"/></a>"
      ]
    },
    {
      "cell_type": "markdown",
      "source": [
        "## 1. A Robot moves in a Plane starting from the origin point (0,0). The robot can move UP, DOWN, LEFT, and RIGHT. The trace of Robot movement is as given following:\n",
        "UP 5\n",
        "\n",
        "DOWN 3\n",
        "\n",
        "LEFT 3\n",
        "\n",
        "RIGHT 2\n",
        "\n",
        "(The numbers after directions are steps)\n",
        "\n",
        "###Write a program to compute the current distance from the origin point after sequencing of movements.Hint:Use the math module."
      ],
      "metadata": {
        "id": "6Ag_b-NliRYD"
      }
    },
    {
      "cell_type": "code",
      "execution_count": 8,
      "metadata": {
        "colab": {
          "base_uri": "https://localhost:8080/"
        },
        "id": "eKOYPhnhh80h",
        "outputId": "16247847-1913-46c7-8fbd-e828529ad9e2"
      },
      "outputs": [
        {
          "output_type": "stream",
          "name": "stdout",
          "text": [
            "UP 5\n",
            "DOWN 4\n",
            "RIGHT 3\n",
            "LEFT 2\n",
            "\n",
            "Distance from origin: 1.4142\n"
          ]
        }
      ],
      "source": [
        "import math\n",
        "\n",
        "x = 0\n",
        "y = 0\n",
        "\n",
        "compute_map = {\n",
        "    'UP': lambda x,y,step: (x, y+step),\n",
        "    'DOWN': lambda x,y,step: (x, y-step),\n",
        "    'LEFT': lambda x,y,step: (x-step, y),\n",
        "    'RIGHT': lambda x,y,step: (x+step, y)\n",
        "}\n",
        "\n",
        "while(True):\n",
        "  input_str = input()\n",
        "  if not input_str:\n",
        "    break\n",
        "\n",
        "  direction, steps = input_str.split()\n",
        "  steps = int(steps)\n",
        "  x, y = compute_map[direction](x, y, steps)\n",
        "\n",
        "distance = math.sqrt(x**2 + y**2)\n",
        "print(f\"Distance from origin: {distance:.4f}\")\n"
      ]
    },
    {
      "cell_type": "markdown",
      "source": [
        "## 2. Data of XYZ company is stored in a sorted list. Write a program to search for specific data from that list.\n",
        "\n",
        "### **Hint:** Use if/elif to deal with conditions."
      ],
      "metadata": {
        "id": "eMrq2Iucm09_"
      }
    },
    {
      "cell_type": "code",
      "source": [
        "input_str = input(\"Enter data (comma seperated): \")\n",
        "\n",
        "data = input_str.split(\",\")\n",
        "sorted_data = sorted(data)\n",
        "\n",
        "print(sorted_data)\n",
        "\n",
        "search_data = input(\"Enter data to search: \")\n",
        "\n",
        "def binary_search(data, target):\n",
        "  low = 0\n",
        "  high = len(data) - 1\n",
        "\n",
        "  while low <= high:\n",
        "    mid = (low + high) // 2\n",
        "    if data[mid] == target:\n",
        "      return mid\n",
        "    elif data[mid] < target:\n",
        "      low = mid + 1\n",
        "    else:\n",
        "      high = mid - 1\n",
        "  return -1\n",
        "\n",
        "result = binary_search(sorted_data, search_data)\n",
        "\n",
        "if result != -1:\n",
        "  print(f\"{search_data} found at index {result}\")"
      ],
      "metadata": {
        "colab": {
          "base_uri": "https://localhost:8080/"
        },
        "id": "9CsKIgZzmLgw",
        "outputId": "29a636ba-27e7-42e8-af84-e7b828f5679a"
      },
      "execution_count": 10,
      "outputs": [
        {
          "output_type": "stream",
          "name": "stdout",
          "text": [
            "Enter data (comma seperated): Siva,Rama,Krishna,Ramya,Kriti,Lasya,Nandana,Lakshmi,Bharathi,Lalitha,Srinivas\n",
            "['Bharathi', 'Krishna', 'Kriti', 'Lakshmi', 'Lalitha', 'Lasya', 'Nandana', 'Rama', 'Ramya', 'Siva', 'Srinivas']\n",
            "Enter data to search: Siva\n",
            "Siva found at index 9\n"
          ]
        }
      ]
    },
    {
      "cell_type": "markdown",
      "source": [
        "## 3. A weather forecasting organization wants to show whether it is day or night. Write a program to find whether is it dark outside or not based on the local system time.\n",
        "\n",
        "###**Hint:** Use the time module."
      ],
      "metadata": {
        "id": "UAuZQPALovOc"
      }
    },
    {
      "cell_type": "code",
      "source": [
        "import time\n",
        "\n",
        "current_time = time.localtime()\n",
        "hour = current_time.tm_hour\n",
        "\n",
        "if 6 <= hour < 18:\n",
        "  print(\"It is daytime.\")\n",
        "else:\n",
        "  print(\"It is nighttime.\")"
      ],
      "metadata": {
        "colab": {
          "base_uri": "https://localhost:8080/"
        },
        "id": "uUJkY40Up34Q",
        "outputId": "aee00c80-de52-4045-c3b4-43f25588bd2b"
      },
      "execution_count": 15,
      "outputs": [
        {
          "output_type": "stream",
          "name": "stdout",
          "text": [
            "It is nighttime.\n"
          ]
        }
      ]
    },
    {
      "cell_type": "markdown",
      "source": [
        "## 4. Write a program to find the distance between two locations when their latitude and longitudes are given.\n",
        "\n",
        "### **Hint:** Use the math module."
      ],
      "metadata": {
        "id": "4CVRNXaPqNhU"
      }
    },
    {
      "cell_type": "code",
      "source": [
        "import math\n",
        "\n",
        "def haversine_distance(lat1, lon1, lat2, lon2):\n",
        "    R = 6371  # Earth radius in kilometers\n",
        "\n",
        "    # Convert latitude and longitude to radians\n",
        "    lat1_rad = math.radians(lat1)\n",
        "    lon1_rad = math.radians(lon1)\n",
        "    lat2_rad = math.radians(lat2)\n",
        "    lon2_rad = math.radians(lon2)\n",
        "\n",
        "    # Haversine formula\n",
        "    dlon = lon2_rad - lon1_rad\n",
        "    dlat = lat2_rad - lat1_rad\n",
        "\n",
        "    a = math.sin(dlat / 2)**2 + math.cos(lat1_rad) * math.cos(lat2_rad) * math.sin(dlon / 2)**2\n",
        "    c = 2 * math.atan2(math.sqrt(a), math.sqrt(1 - a))\n",
        "\n",
        "    distance = R * c\n",
        "    return distance\n",
        "\n",
        "# Example usage:\n",
        "lat1 = 40.7128\n",
        "lon1 = -74.0060\n",
        "lat2 = 34.0522\n",
        "lon2 = -118.2437\n",
        "\n",
        "distance = haversine_distance(lat1, lon1, lat2, lon2)\n",
        "print(f\"The distance between the two locations is: {distance:.2f} km\")"
      ],
      "metadata": {
        "colab": {
          "base_uri": "https://localhost:8080/"
        },
        "id": "NfOQquRLqM0k",
        "outputId": "1accbf8e-721b-4f50-cda9-e6a546cc2897"
      },
      "execution_count": 16,
      "outputs": [
        {
          "output_type": "stream",
          "name": "stdout",
          "text": [
            "The distance between the two locations is: 3935.75 km\n"
          ]
        }
      ]
    },
    {
      "cell_type": "markdown",
      "source": [
        "## 5. Design a banking system software with options like cash withdrawal, cash credit, and change password. The software must display appropriate results based on user inputs.\n",
        "\n",
        "### **Hint:** Use if else statements and functions."
      ],
      "metadata": {
        "id": "O3-n2sCRrUS0"
      }
    },
    {
      "cell_type": "code",
      "source": [
        "def cash_withdrawal(balance, amount):\n",
        "    if amount > balance:\n",
        "        return balance, \"Insufficient balance.\"\n",
        "    else:\n",
        "        return balance - amount, \"Withdrawal successful.\"\n",
        "\n",
        "def cash_credit(balance, amount):\n",
        "    return balance + amount, \"Credit successful.\"\n",
        "\n",
        "def change_password(current_password, new_password):\n",
        "    # In a real system, you would verify the current password\n",
        "    # and securely store the new password.\n",
        "    # For this example, we'll just return the new password.\n",
        "    if len(new_password) < 8:\n",
        "        return current_password, \"Password must be at least 8 characters long.\"\n",
        "\n",
        "    if current_password == new_password:\n",
        "        return current_password, \"New password cannot be the same as the old one.\"\n",
        "\n",
        "    if current_password != password:\n",
        "        return current_password, \"Incorrect current password.\"\n",
        "\n",
        "    return new_password, \"Password changed successfully.\"\n",
        "\n",
        "balance = 1000\n",
        "password = \"password123\"\n",
        "\n",
        "while True:\n",
        "    print(\"\\nBanking System Menu:\")\n",
        "    print(\"1. Cash Withdrawal\")\n",
        "    print(\"2. Cash Credit\")\n",
        "    print(\"3. Change Password\")\n",
        "    print(\"4. Exit\")\n",
        "\n",
        "    choice = input(\"Enter your choice: \")\n",
        "\n",
        "    if choice == '1':\n",
        "        amount = float(input(\"Enter amount to withdraw: \"))\n",
        "        balance, message = cash_withdrawal(balance, amount)\n",
        "        print(message)\n",
        "        print(f\"Current balance: {balance}\")\n",
        "    elif choice == '2':\n",
        "        amount = float(input(\"Enter amount to credit: \"))\n",
        "        balance, message = cash_credit(balance, amount)\n",
        "        print(message)\n",
        "        print(f\"Current balance: {balance}\")\n",
        "    elif choice == '3':\n",
        "        current_password_input = input(\"Enter current password: \")\n",
        "        if current_password_input == password:\n",
        "            new_password_input = input(\"Enter new password: \")\n",
        "            password, message = change_password(password, new_password_input)\n",
        "            print(message)\n",
        "        else:\n",
        "            print(\"Incorrect current password.\")\n",
        "    elif choice == '4':\n",
        "        print(f\"Current balance: {balance}\")\n",
        "        print(\"Exiting Banking System. Thank you!\")\n",
        "        break\n",
        "    else:\n",
        "        print(\"Invalid choice. Please try again.\")"
      ],
      "metadata": {
        "colab": {
          "base_uri": "https://localhost:8080/"
        },
        "id": "avRRNqh2rgBI",
        "outputId": "fd3b51ac-3a08-4b97-f64d-594a8092d119"
      },
      "execution_count": 20,
      "outputs": [
        {
          "output_type": "stream",
          "name": "stdout",
          "text": [
            "\n",
            "Banking System Menu:\n",
            "1. Cash Withdrawal\n",
            "2. Cash Credit\n",
            "3. Change Password\n",
            "4. Exit\n",
            "Enter your choice: 3\n",
            "Enter current password: password123\n",
            "Enter new password: password234\n",
            "Password changed successfully.\n",
            "\n",
            "Banking System Menu:\n",
            "1. Cash Withdrawal\n",
            "2. Cash Credit\n",
            "3. Change Password\n",
            "4. Exit\n",
            "Enter your choice: 3\n",
            "Enter current password: password123\n",
            "Incorrect current password.\n",
            "\n",
            "Banking System Menu:\n",
            "1. Cash Withdrawal\n",
            "2. Cash Credit\n",
            "3. Change Password\n",
            "4. Exit\n",
            "Enter your choice: 4\n",
            "Current balance: 1000\n",
            "Exiting Banking System. Thank you!\n"
          ]
        }
      ]
    },
    {
      "cell_type": "markdown",
      "source": [
        "## 6. Write a program that will find all numbers which are divisible by 7 but are not a multiple of 5, between 2,000 and 3,200 (both included). The numbers obtained should be printed in a comma-separated sequence on a single line."
      ],
      "metadata": {
        "id": "8vF4UORyupsn"
      }
    },
    {
      "cell_type": "code",
      "source": [
        "result = []\n",
        "for num in range(2000, 3201):\n",
        "    if (num % 7 == 0) and (num % 5 != 0):\n",
        "        result.append(str(num))\n",
        "\n",
        "print(\",\".join(result))"
      ],
      "metadata": {
        "colab": {
          "base_uri": "https://localhost:8080/"
        },
        "id": "NRA1UrfnvG6b",
        "outputId": "ae72e360-c950-48b3-c4d1-8cc63c9882c4"
      },
      "execution_count": 21,
      "outputs": [
        {
          "output_type": "stream",
          "name": "stdout",
          "text": [
            "2002,2009,2016,2023,2037,2044,2051,2058,2072,2079,2086,2093,2107,2114,2121,2128,2142,2149,2156,2163,2177,2184,2191,2198,2212,2219,2226,2233,2247,2254,2261,2268,2282,2289,2296,2303,2317,2324,2331,2338,2352,2359,2366,2373,2387,2394,2401,2408,2422,2429,2436,2443,2457,2464,2471,2478,2492,2499,2506,2513,2527,2534,2541,2548,2562,2569,2576,2583,2597,2604,2611,2618,2632,2639,2646,2653,2667,2674,2681,2688,2702,2709,2716,2723,2737,2744,2751,2758,2772,2779,2786,2793,2807,2814,2821,2828,2842,2849,2856,2863,2877,2884,2891,2898,2912,2919,2926,2933,2947,2954,2961,2968,2982,2989,2996,3003,3017,3024,3031,3038,3052,3059,3066,3073,3087,3094,3101,3108,3122,3129,3136,3143,3157,3164,3171,3178,3192,3199\n"
          ]
        }
      ]
    },
    {
      "cell_type": "markdown",
      "source": [],
      "metadata": {
        "id": "MBJ26c7gsamy"
      }
    },
    {
      "cell_type": "markdown",
      "source": [
        "## 7. Write  a  program that can compute the factorial of given  numbers. Use recursion to find it."
      ],
      "metadata": {
        "id": "rmbP5OcCvcoi"
      }
    },
    {
      "cell_type": "code",
      "source": [
        "def factorial(n: int) -> int:\n",
        "    if n == 0:\n",
        "        return 1\n",
        "    else:\n",
        "        return n * factorial(n - 1)\n",
        "\n",
        "# Example usage\n",
        "print(f\"Factorial of 5: {factorial(5)}\")\n",
        "print(f\"Factorial of 10: {factorial(10)}\")"
      ],
      "metadata": {
        "colab": {
          "base_uri": "https://localhost:8080/"
        },
        "id": "3scfgFzqvomZ",
        "outputId": "5bd665e7-bd1b-4dd9-9cff-c2fce67e3b8b"
      },
      "execution_count": 23,
      "outputs": [
        {
          "output_type": "stream",
          "name": "stdout",
          "text": [
            "Factorial of 5: 120\n",
            "Factorial of 10: 3628800\n"
          ]
        }
      ]
    },
    {
      "cell_type": "markdown",
      "source": [
        "## 8. Write  a  program  that  calculates  and  prints  the value  according  to  the  given formula:\n",
        "\n",
        "Q = Square root of [(2 * C * D)/H]\n",
        "\n",
        "### Following are the fixed values of C and H: C is 50. H is 30.\n",
        "### D  is  the  variable  whose  values  should  be  input  to  your  program  in  a comma-separated sequence.\n",
        "#### **Example**\n",
        "Let  us  assume  the  following comma-separated input  sequence  is  given  to  the program:100,150,180\n",
        "\n",
        "The output of the program should be: 18,22,24\n"
      ],
      "metadata": {
        "id": "Fp2tVZvHwk88"
      }
    },
    {
      "cell_type": "code",
      "source": [
        "import math\n",
        "\n",
        "C = 50\n",
        "H = 30\n",
        "\n",
        "input_D = input(\"Enter comma-separated values for D: \")\n",
        "D_values = input_D.split(',')\n",
        "\n",
        "results = []\n",
        "for D_str in D_values:\n",
        "    D = int(D_str)\n",
        "    Q = math.sqrt((2 * C * D) / H)\n",
        "    results.append(str(int(Q)))\n",
        "\n",
        "print(\",\".join(results))"
      ],
      "metadata": {
        "colab": {
          "base_uri": "https://localhost:8080/"
        },
        "id": "130oYJv7yFZR",
        "outputId": "5e10168b-8546-4838-97d8-2fa616779009"
      },
      "execution_count": 24,
      "outputs": [
        {
          "output_type": "stream",
          "name": "stdout",
          "text": [
            "Enter comma-separated values for D: 100,150,180\n",
            "18,22,24\n"
          ]
        }
      ]
    },
    {
      "cell_type": "markdown",
      "source": [
        "## 9. Write a program thattakes 2 digits, X, Y as input and generates a 2-dimensional array. The element value in the ith row and jth column of the array should be i*j.\n",
        "**Note:** i = 0,1,.., X-1; j= 0,1,¡-Y-1.\n",
        "\n",
        "#### **Example**\n",
        "Suppose the following inputs are given to the program: 3,5\n",
        "Then, the output of the program should be:[[0, 0, 0, 0, 0], [0, 1, 2, 3, 4], [0, 2, 4, 6, 8]]"
      ],
      "metadata": {
        "id": "JSZJfTAGxQB9"
      }
    },
    {
      "cell_type": "code",
      "source": [
        "input_str = input(\"Enter two digits X and Y separated by a comma: \")\n",
        "X, Y = map(int, input_str.split(','))\n",
        "\n",
        "# Generate the 2D array using a list comprehension\n",
        "array_2d = [[i * j for j in range(Y)] for i in range(X)]\n",
        "\n",
        "print(array_2d)"
      ],
      "metadata": {
        "colab": {
          "base_uri": "https://localhost:8080/"
        },
        "id": "ruA1pPxCxsh4",
        "outputId": "ca76a78d-44ce-4c7c-98fe-f7a3c9fa4d33"
      },
      "execution_count": 25,
      "outputs": [
        {
          "output_type": "stream",
          "name": "stdout",
          "text": [
            "Enter two digits X and Y separated by a comma: 3,5\n",
            "[[0, 0, 0, 0, 0], [0, 1, 2, 3, 4], [0, 2, 4, 6, 8]]\n"
          ]
        }
      ]
    },
    {
      "cell_type": "markdown",
      "source": [
        "## 10. Write  a  program  that  accepts  a comma-separated sequence  of  words  as  input and  prints  the  words  in  a  comma-separated  sequence  after  sorting  them alphabetically.\n",
        "### Suppose the following input is supplied to the program:\n",
        "without,hello,bag,world\n",
        "#### Then, the output should be:\n",
        "bag,hello,without,world"
      ],
      "metadata": {
        "id": "w_PVhMTTxtl4"
      }
    },
    {
      "cell_type": "code",
      "source": [
        "input_str = input(\"Enter a comma-separated sequence of words: \")\n",
        "words = input_str.split(',')\n",
        "words.sort()\n",
        "print(\",\".join(words))"
      ],
      "metadata": {
        "colab": {
          "base_uri": "https://localhost:8080/"
        },
        "id": "3mzo5OxlyqhE",
        "outputId": "595ae2c1-1e20-4d42-8818-ee7c49584814"
      },
      "execution_count": 26,
      "outputs": [
        {
          "output_type": "stream",
          "name": "stdout",
          "text": [
            "Enter a comma-separated sequence of words: without,hello,bag,world\n",
            "bag,hello,without,world\n"
          ]
        }
      ]
    },
    {
      "cell_type": "markdown",
      "source": [
        "## 11. Write  a  program  that  accepts a sequence  of  lines  as  input  and  prints the lines after making all characters in the sentence capitalized.\n",
        "\n",
        "#### Suppose the following input is supplied to the program:\n",
        "\n",
        "Hello world\n",
        "\n",
        "Practice makes perfect\n",
        "\n",
        "**Then, the output should be:**\n",
        "\n",
        "HELLO WORLD\n",
        "\n",
        "PRACTICE MAKES PERFECT"
      ],
      "metadata": {
        "id": "k4lY4qzcy2tp"
      }
    },
    {
      "cell_type": "code",
      "source": [
        "lines = []\n",
        "while True:\n",
        "  try:\n",
        "    line = input()\n",
        "    if not line:\n",
        "      break\n",
        "    lines.append(line.upper())\n",
        "  except EOFError:\n",
        "    break\n",
        "\n",
        "for line in lines:\n",
        "  print(line)"
      ],
      "metadata": {
        "colab": {
          "base_uri": "https://localhost:8080/"
        },
        "id": "4Yym5Qyvzfz1",
        "outputId": "a370e890-239a-4304-cfc4-a8a1c71e57cb"
      },
      "execution_count": 27,
      "outputs": [
        {
          "output_type": "stream",
          "name": "stdout",
          "text": [
            "Hello world\n",
            "Practice makes perfect\n",
            "\n",
            "HELLO WORLD\n",
            "PRACTICE MAKES PERFECT\n"
          ]
        }
      ]
    },
    {
      "cell_type": "markdown",
      "source": [
        "## 12. Write  a  program  that  accepts  a  sequence  of whitespace-separated words  as input and prints the words after removing all duplicate words and sorting them alphanumerically.\n",
        "### Suppose the following input is supplied to the program:\n",
        "hello world and practice makes perfect and hello world again\n",
        "\n",
        "### Then, the output should be:\n",
        "again and hello makes perfect practice world"
      ],
      "metadata": {
        "id": "ByHkP1tM076J"
      }
    },
    {
      "cell_type": "code",
      "source": [
        "input_str = input(\"Enter a sequence of whitespace-separated words: \")\n",
        "words = input_str.split()\n",
        "unique_words = sorted(list(set(words)))\n",
        "print(\" \".join(unique_words))"
      ],
      "metadata": {
        "colab": {
          "base_uri": "https://localhost:8080/"
        },
        "id": "wmS741Bq1Iua",
        "outputId": "7dea82c0-00bb-4e0b-9ea3-3c2d7dce2459"
      },
      "execution_count": 28,
      "outputs": [
        {
          "output_type": "stream",
          "name": "stdout",
          "text": [
            "Enter a sequence of whitespace-separated words: hello world and practice makes perfect and hello world again\n",
            "again and hello makes perfect practice world\n"
          ]
        }
      ]
    },
    {
      "cell_type": "markdown",
      "source": [
        "## 13. Write  a  program thataccepts  a  sequence  of comma-separated 4-digit binary numbers as its input and then check whether they are divisible by 5 or not. The numbers  that  are  divisible  by  5  are  to  be  printed  in  a comma-separated sequence.\n",
        "\n",
        "### Example\n",
        "0100,0011,1010,1001\n",
        "\n",
        "### Then the output should be:\n",
        "1010"
      ],
      "metadata": {
        "id": "jypGJO7k1XJe"
      }
    },
    {
      "cell_type": "code",
      "source": [
        "input_str = input(\"Enter a comma-separated sequence of 4-digit binary numbers: \")\n",
        "binary_numbers = input_str.split(',')\n",
        "\n",
        "divisible_by_5 = []\n",
        "for binary_num in binary_numbers:\n",
        "    # Convert binary to integer\n",
        "    decimal_num = int(binary_num, 2)\n",
        "    # Check if divisible by 5\n",
        "    if decimal_num % 5 == 0:\n",
        "        divisible_by_5.append(binary_num)\n",
        "\n",
        "print(\",\".join(divisible_by_5))"
      ],
      "metadata": {
        "colab": {
          "base_uri": "https://localhost:8080/"
        },
        "id": "ktZE3vvQ1r66",
        "outputId": "3bc89b6c-3830-4942-e74e-8990354d730f"
      },
      "execution_count": 29,
      "outputs": [
        {
          "output_type": "stream",
          "name": "stdout",
          "text": [
            "Enter a comma-separated sequence of 4-digit binary numbers: 0100,0011,1010,1001\n",
            "1010\n"
          ]
        }
      ]
    },
    {
      "cell_type": "markdown",
      "source": [
        "## 14. Write a program that accepts a sentence and calculate the number of upper-case letters and lower-case letters.\n",
        "Suppose the following input is supplied to the program:\n",
        "\n",
        "Hello world!\n",
        "\n",
        "Then, the output should be:\n",
        "\n",
        "UPPER CASE 1\n",
        "\n",
        "LOWER CASE 9"
      ],
      "metadata": {
        "id": "sZDXASXy2DeL"
      }
    },
    {
      "cell_type": "code",
      "source": [
        "input_sentence = input(\"Enter a sentence: \")\n",
        "\n",
        "upper_count = 0\n",
        "lower_count = 0\n",
        "\n",
        "for char in input_sentence:\n",
        "    if 'A' <= char <= 'Z':\n",
        "        upper_count += 1\n",
        "    elif 'a' <= char <= 'z':\n",
        "        lower_count += 1\n",
        "\n",
        "print(f\"UPPER CASE {upper_count}\")\n",
        "print(f\"LOWER CASE {lower_count}\")"
      ],
      "metadata": {
        "colab": {
          "base_uri": "https://localhost:8080/"
        },
        "id": "PmCxdc_Q2XQu",
        "outputId": "e0ae457a-e7f2-49dc-9135-26e23537d0d6"
      },
      "execution_count": 30,
      "outputs": [
        {
          "output_type": "stream",
          "name": "stdout",
          "text": [
            "Enter a sentence: Hello world!\n",
            "UPPER CASE 1\n",
            "LOWER CASE 9\n"
          ]
        }
      ]
    },
    {
      "cell_type": "markdown",
      "source": [
        "## 15. Give an example of fsum and sum function of math library."
      ],
      "metadata": {
        "id": "0A6LneXs2kbY"
      }
    },
    {
      "cell_type": "code",
      "source": [
        "import math\n",
        "\n",
        "# sum():\n",
        "# This built-in function performs a standard summation. When dealing with floating-point numbers,\n",
        "# it can accumulate small rounding errors due to the inherent limitations of floating-point representation.\n",
        "# This means that for a large number of floating-point additions,\n",
        "# the final result might not be as precise as mathematically expected.\n",
        "\n",
        "# math.fsum():\n",
        "# This function, part of the math module, is specifically designed for accurate floating-point summation.\n",
        "# It uses a Kahan summation algorithm (or a similar technique) to minimize the accumulation of rounding errors.\n",
        "# This algorithm keeps track of a running \"compensation\" for lost precision, resulting in a more accurate sum,\n",
        "# especially when adding many small or very different-sized floating-point numbers.\n",
        "\n",
        "# Example of sum()\n",
        "numbers = [0.1] * 10\n",
        "total_sum = sum(numbers)\n",
        "print(f\"Using sum(): {total_sum}\")\n",
        "\n",
        "# Example of math.fsum()\n",
        "total_fsum = math.fsum(numbers)\n",
        "print(f\"Using math.fsum(): {total_fsum}\")\n",
        "\n",
        "# A more illustrative example with potential precision issues for sum()\n",
        "large_numbers = [1000000.0] * 10000 + [0.0000001] * 10000\n",
        "large_total_sum = sum(large_numbers)\n",
        "large_total_fsum = math.fsum(large_numbers)\n",
        "\n",
        "print(f\"\\nUsing sum() with many numbers: {large_total_sum}\")\n",
        "print(f\"Using math.fsum() with many numbers: {large_total_fsum}\")"
      ],
      "metadata": {
        "colab": {
          "base_uri": "https://localhost:8080/"
        },
        "id": "IgRbhRcj2oi1",
        "outputId": "3cd375cb-e57c-4e6c-dc38-5631390dc5e4"
      },
      "execution_count": 31,
      "outputs": [
        {
          "output_type": "stream",
          "name": "stdout",
          "text": [
            "Using sum(): 0.9999999999999999\n",
            "Using math.fsum(): 1.0\n",
            "\n",
            "Using sum() with many numbers: 10000000000.0\n",
            "Using math.fsum() with many numbers: 10000000000.001\n"
          ]
        }
      ]
    },
    {
      "cell_type": "markdown",
      "source": [
        "## 16. Case Study:\n",
        "\n",
        "**Domain:** Banking\n",
        "\n",
        "**Marketing Focus:** Optimization\n",
        "\n",
        "### Business challenge/requirement\n",
        "\n",
        "Bank of Portugal runs a marketing campaign to offer loans to clients.  The loan is offered to only clients in selective professions. A list of successful campaigns (with client data) is given in the attached data set.  \n",
        "You must come up with a program that reads the file and builds a set of unique profession lists.  \n",
        "Based on the given input professions of the client, the system tells whether the client is eligible to be approached for the marketing campaign.\n",
        "\n",
        "### Key issues\n",
        "Tele Caller can only make x number of cold calls in a day. Hence to increase her effectiveness only eligible customers should be contacted.\n",
        "\n",
        "### Considerations\n",
        "\n",
        "The current system does not differentiate clients based on age and profession.\n",
        "\n",
        "#### Data volume\n",
        "447 records in bank-data.csv\n",
        "\n",
        "#### Additional information\n",
        "NA\n",
        "\n",
        "#### Business benefits\n",
        "The company can achieve between 15% to 20% higher conversion by targeting the right clients.\n",
        "\n",
        "#### Approach to Solve\n",
        "You must use the fundamentals of Python taught in Module 3.\n",
        "\n",
        "1. Read file bank-data.csv\n",
        "2. Build a set of unique jobs\n",
        "3. Read the input from the command line - profession\n",
        "4. Check if the profession is on the list\n",
        "5. Print whether the client is eligible\n",
        "\n",
        "### Enhancements for code\n",
        "You can try these enhancements in code\n",
        "1. Compute max and min age for loan eligibility based on data in csv file.\n",
        "2. Store max and min age in the dictionary.\n",
        "3. Make the professional check case insensitive. Currently program ends after the check. Take the input in the while loop and end only if the user types \"END\" for profession."
      ],
      "metadata": {
        "id": "qfWyx3ug5imq"
      }
    },
    {
      "cell_type": "code",
      "source": [
        "def read_banking_data_csv(file_path):\n",
        "  data = []\n",
        "  with open(file_path, 'r') as file:\n",
        "    lines = file.readlines()\n",
        "  header = lines[0].strip().split(',')\n",
        "  lines = lines[1:]\n",
        "  for line in lines:\n",
        "    values = line.strip().split(',')\n",
        "    data.append(dict(zip(header, values)))\n",
        "  return data\n",
        "\n",
        "def get_unique_professions(data):\n",
        "  return set([row[\"job\"] for row in data])\n",
        "\n",
        "def get_min_max_age_for_profession(data, profession):\n",
        "  min_age = None\n",
        "  max_age = None\n",
        "  for row in data:\n",
        "    if row[\"job\"] != profession:\n",
        "      continue\n",
        "    age = int(row[\"age\"])\n",
        "    if min_age is None or age < min_age:\n",
        "      min_age = age\n",
        "    if max_age is None or age > max_age:\n",
        "      max_age = age\n",
        "  return min_age, max_age\n",
        "\n",
        "\n",
        "filename = '/content/sample_data/bank-data.csv'\n",
        "data = read_banking_data_csv(filename)\n",
        "unique_professions = get_unique_professions(data)\n",
        "print(\"Unique Professions:\", unique_professions)\n",
        "\n",
        "eligibility_map = {}\n",
        "for profession in unique_professions:\n",
        "  min_age, max_age = get_min_max_age_for_profession(data, profession)\n",
        "  print(f\"Profession: {profession}, Min Age: {min_age}, Max Age: {max_age}\")\n",
        "  eligibility_map[profession] = (min_age, max_age)\n",
        "\n",
        "while True:\n",
        "  input_profession = input(\"Enter a profession (or type 'END' to exit): \")\n",
        "  if input_profession.upper() == \"END\":\n",
        "    break\n",
        "\n",
        "  if input_profession in eligibility_map:\n",
        "    min_age, max_age = eligibility_map[input_profession]\n",
        "    age = int(input(\"Enter your age: \"))\n",
        "    if min_age <= age <= max_age:\n",
        "      print(f\"Profession: {input_profession}, Age: {age}, Eligible: True\")\n",
        "    else:\n",
        "      print(f\"Profession: {input_profession}, Age: {age}, Eligible: False\")\n",
        "\n",
        "  else:\n",
        "    print(f\"Profession: {input_profession}, Eligible: False\")\n"
      ],
      "metadata": {
        "colab": {
          "base_uri": "https://localhost:8080/"
        },
        "id": "uOCj4cs27fzB",
        "outputId": "a216c728-b026-4952-d287-481b465a4830"
      },
      "execution_count": 39,
      "outputs": [
        {
          "name": "stdout",
          "output_type": "stream",
          "text": [
            "Unique Professions: {'services', 'management', 'student', 'admin.', 'blue-collar', 'housemaid', 'self-employed', 'technician', 'entrepreneur'}\n",
            "Profession: services, Min Age: 24, Max Age: 60\n",
            "Profession: management, Min Age: 25, Max Age: 62\n",
            "Profession: student, Min Age: 19, Max Age: 28\n",
            "Profession: admin., Min Age: 25, Max Age: 61\n",
            "Profession: blue-collar, Min Age: 24, Max Age: 60\n",
            "Profession: housemaid, Min Age: 29, Max Age: 80\n",
            "Profession: self-employed, Min Age: 28, Max Age: 62\n",
            "Profession: technician, Min Age: 23, Max Age: 61\n",
            "Profession: entrepreneur, Min Age: 23, Max Age: 63\n",
            "Enter a profession (or type 'END' to exit): test\n",
            "Profession: test, Eligible: False\n",
            "Enter a profession (or type 'END' to exit): student\n",
            "Enter your age: 30\n",
            "Profession: student, Age: 30, Eligible: False\n",
            "Enter a profession (or type 'END' to exit): student\n",
            "Enter your age: 25\n",
            "Profession: student, Age: 25, Eligible: True\n",
            "Enter a profession (or type 'END' to exit): END\n"
          ]
        }
      ]
    },
    {
      "cell_type": "markdown",
      "source": [
        "## 17. Case Study:\n",
        "\n",
        "### **Domain:** E-Commerce\n",
        "### **Focus:** Optimization\n",
        "\n",
        "### Business challenge/requirement\n",
        "**GoodsKart** - the largest e-commerce company in Indonesia, with revenue of $2B+ has acquired another e-commerce company FairDeal.  \n",
        "FairDeal has its own IT system to maintain the records of customers, sales, and so on. For ease of maintenance and cost savings, GoodsKart is integrating customer databases of both organizations hence customer data of FairDeal must be converted into GoodsKart customer data format.\n",
        "\n",
        "### Key issues\n",
        "GoodsKart customer data has more fields than in FairDeal customer data. Hence FairDeal data needs to be split and stored in GoodsKart Customer Object-Oriented Data Structure.\n",
        "\n",
        "### Considerations\n",
        "The system should convert the data at run time.\n",
        "\n",
        "### Data volume\n",
        "NA\n",
        "\n",
        "### Additional information\n",
        "NA\n",
        "\n",
        "### Business benefits\n",
        "GoodsKart can eventually restructure the IT systems of FairDeal and reduce its cost by 20-30%\n",
        "\n",
        "### Approach to Solve\n",
        "You must use the fundamentals of Python taught in Module 3.  \n",
        "1. Read FairDealCustomerData.csv\n",
        "2. Name field contains full name - use a regular expression to separate title, first name, and last name\n",
        "3. Store the data in Customer Class\n",
        "4. Create Custom Exception - CustomerNotAllowedException\n",
        "5. Pass a customer to function \"create order\" and throw CustomerNotAllowedException in case of blacklisted value is 1\n",
        "\n",
        "### Enhancements for code\n",
        "You can try these enhancements in code.\n",
        "1. Change function createOrder to take product name and product code as input\n",
        "2. Create Class Order. Return object of type Order in case customer is eligible.\n",
        "\n"
      ],
      "metadata": {
        "id": "VeS2HOWQACKh"
      }
    },
    {
      "cell_type": "code",
      "source": [
        "class Customer:\n",
        "  \"\"\"Represents a customer with title, first name, last name, and blacklisted status.\"\"\"\n",
        "  def __init__(self, title, first_name, last_name, blacklisted):\n",
        "    self.title = title\n",
        "    self.first_name = first_name\n",
        "    self.last_name = last_name\n",
        "    self.blacklisted = blacklisted\n",
        "\n",
        "  def __repr__(self):\n",
        "    return f\"Customer(title='{self.title}', first_name='{self.first_name}', last_name='{self.last_name}', blacklisted={self.blacklisted})\"\n",
        "\n",
        "  @classmethod\n",
        "  def load_customer_data(cls, data):\n",
        "    customers = []\n",
        "\n",
        "    for row in data:\n",
        "      last_name, first_name, blacklisted = row[0], row[1], row[2]\n",
        "\n",
        "      first_name_parts = first_name.split(\" \")\n",
        "      if first_name_parts[0].endswith(\".\"):\n",
        "        title = first_name_parts[0][:-1]\n",
        "        first_name = \" \".join(first_name_parts[1:])\n",
        "      else:\n",
        "        title = \"\"\n",
        "\n",
        "      customer = cls(title, first_name, last_name, int(blacklisted))\n",
        "      customers.append(customer)\n",
        "\n",
        "    return customers\n",
        "\n",
        "class CustomerNotAllowedException(Exception):\n",
        "  \"\"\"Custom exception raised when a customer is not allowed to perform an action.\"\"\"\n",
        "  pass\n",
        "\n",
        "class Order:\n",
        "  \"\"\"Represents an order with customer, product name, and product code.\"\"\"\n",
        "  def __init__(self, customer, product_name, product_code):\n",
        "    self.customer = customer\n",
        "    self.product_name = product_name\n",
        "    self.product_code = product_code\n",
        "\n",
        "  def __repr__(self):\n",
        "    return f\"Order(customer={self.customer.first_name} {self.customer.last_name}, product_name='{self.product_name}', product_code='{self.product_code}')\"\n",
        "\n",
        "\n",
        "def create_order(customer, product_name, product_code):\n",
        "  \"\"\"\n",
        "  Creates an order for a customer if they are not blacklisted.\n",
        "\n",
        "  Args:\n",
        "    customer: A Customer object.\n",
        "    product_name: The name of the product (string).\n",
        "    product_code: The code of the product (string or integer).\n",
        "\n",
        "  Returns:\n",
        "      Order: An Order object if the customer is not blacklisted.\n",
        "\n",
        "  Raises:\n",
        "    CustomerNotAllowedException: If the customer is blacklisted.\n",
        "  \"\"\"\n",
        "  if customer.blacklisted == 1:\n",
        "    raise CustomerNotAllowedException(f\"Customer {customer.first_name} {customer.last_name} is blacklisted and cannot place an order.\")\n",
        "  else:\n",
        "    # Create and return an Order object for eligible customers\n",
        "    return Order(customer, product_name, product_code)\n",
        "\n",
        "def read_customer_csv(file_path):\n",
        "  data = []\n",
        "  with open(file_path, 'r') as file:\n",
        "    lines = file.readlines()\n",
        "  for line in lines:\n",
        "    values = line.strip().split(',')\n",
        "    data.append([value.strip() for value in values])\n",
        "  return data\n",
        "\n",
        "\n",
        "file_name = '/content/sample_data/FairDealCustomerData.csv'\n",
        "data = read_customer_csv(file_name)\n",
        "customers = Customer.load_customer_data(data)\n",
        "\n",
        "# Assuming customer_list is already populated from the previous step\n",
        "# Iterate through the customer_list and attempt to create orders\n",
        "\n",
        "for i, customer in enumerate(customers):\n",
        "    product_name = f\"Product_{i}\"\n",
        "    product_code = f\"P{i:03d}\"\n",
        "    try:\n",
        "        order = create_order(customer, product_name, product_code)\n",
        "        print(f\"Order created successfully: {order}\")\n",
        "    except CustomerNotAllowedException as e:\n",
        "        print(f\"Order creation failed: {e}\")"
      ],
      "metadata": {
        "colab": {
          "base_uri": "https://localhost:8080/"
        },
        "collapsed": true,
        "id": "zCO31e3DBQk3",
        "outputId": "04adb099-fce6-4e07-e893-fa3dc009dd33"
      },
      "execution_count": 61,
      "outputs": [
        {
          "output_type": "stream",
          "name": "stdout",
          "text": [
            "Order creation failed: Customer Owen Harris Braund is blacklisted and cannot place an order.\n",
            "Order created successfully: Order(customer=Laina Heikkinen, product_name='Product_1', product_code='P001')\n",
            "Order created successfully: Order(customer=William Henry Allen, product_name='Product_2', product_code='P002')\n",
            "Order created successfully: Order(customer=James Moran, product_name='Product_3', product_code='P003')\n",
            "Order created successfully: Order(customer=Timothy J McCarthy, product_name='Product_4', product_code='P004')\n",
            "Order created successfully: Order(customer=Elizabeth Bonnell, product_name='Product_5', product_code='P005')\n",
            "Order created successfully: Order(customer=Anders Johan Andersson, product_name='Product_6', product_code='P006')\n",
            "Order creation failed: Customer Charles Eugene Williams is blacklisted and cannot place an order.\n",
            "Order created successfully: Order(customer=Fatima Masselmani, product_name='Product_8', product_code='P008')\n",
            "Order created successfully: Order(customer=Joseph J Fynney, product_name='Product_9', product_code='P009')\n",
            "Order created successfully: Order(customer=Lawrence Beesley, product_name='Product_10', product_code='P010')\n",
            "Order created successfully: Order(customer=William Thompson Sloper, product_name='Product_11', product_code='P011')\n",
            "Order created successfully: Order(customer=Farred Chehab Emir, product_name='Product_12', product_code='P012')\n",
            "Order created successfully: Order(customer=Lalio Todoroff, product_name='Product_13', product_code='P013')\n",
            "Order creation failed: Customer Manuel E Uruchurtu is blacklisted and cannot place an order.\n",
            "Order created successfully: Order(customer=Mary Agatha Glynn, product_name='Product_15', product_code='P015')\n",
            "Order created successfully: Order(customer=Edward H Wheadon, product_name='Product_16', product_code='P016')\n",
            "Order created successfully: Order(customer=Edgar Joseph Meyer, product_name='Product_17', product_code='P017')\n",
            "Order created successfully: Order(customer=Alexander Oskar Holverson, product_name='Product_18', product_code='P018')\n",
            "Order created successfully: Order(customer=Hanna Mamee, product_name='Product_19', product_code='P019')\n",
            "Order created successfully: Order(customer=Theodor Kraeff, product_name='Product_20', product_code='P020')\n",
            "Order creation failed: Customer William John Rogers is blacklisted and cannot place an order.\n",
            "Order created successfully: Order(customer=Denis Lennon, product_name='Product_22', product_code='P022')\n",
            "Order created successfully: Order(customer=Youssef Samaan, product_name='Product_23', product_code='P023')\n",
            "Order created successfully: Order(customer=Engelhart Cornelius Ostby, product_name='Product_24', product_code='P024')\n",
            "Order created successfully: Order(customer=Hugh Woolner, product_name='Product_25', product_code='P025')\n",
            "Order created successfully: Order(customer=Mansouer Novel, product_name='Product_26', product_code='P026')\n",
            "Order created successfully: Order(customer=Orsen Sirayanian, product_name='Product_27', product_code='P027')\n",
            "Order creation failed: Customer Amelie Icard is blacklisted and cannot place an order.\n",
            "Order created successfully: Order(customer=Henry Birkhardt Harris, product_name='Product_29', product_code='P029')\n",
            "Order created successfully: Order(customer=Albert A Stewart, product_name='Product_30', product_code='P030')\n",
            "Order created successfully: Order(customer=Gerios Moubarek, product_name='Product_31', product_code='P031')\n",
            "Order created successfully: Order(customer=Vincenz Kink, product_name='Product_32', product_code='P032')\n",
            "Order created successfully: Order(customer=Stephen Curnow Jenkin, product_name='Product_33', product_code='P033')\n",
            "Order created successfully: Order(customer=Apostolos Chronopoulos, product_name='Product_34', product_code='P034')\n",
            "Order creation failed: Customer Lee Bing is blacklisted and cannot place an order.\n",
            "Order created successfully: Order(customer=Sigurd Hansen Moen, product_name='Product_36', product_code='P036')\n",
            "Order created successfully: Order(customer=Ivan Staneff, product_name='Product_37', product_code='P037')\n",
            "Order created successfully: Order(customer=Rahamin Haim Moutal, product_name='Product_38', product_code='P038')\n",
            "Order created successfully: Order(customer=Elizabeth Dowdell, product_name='Product_39', product_code='P039')\n",
            "Order created successfully: Order(customer=Achille Waelens, product_name='Product_40', product_code='P040')\n",
            "Order created successfully: Order(customer=Jan Baptist Sheerlinck, product_name='Product_41', product_code='P041')\n",
            "Order creation failed: Customer Brigdet Delia McDermott is blacklisted and cannot place an order.\n",
            "Order created successfully: Order(customer=Francisco M Carrau, product_name='Product_43', product_code='P043')\n",
            "Order created successfully: Order(customer=Selman Francis Slocovski, product_name='Product_44', product_code='P044')\n",
            "Order created successfully: Order(customer=Mabel Helen Fortune, product_name='Product_45', product_code='P045')\n",
            "Order created successfully: Order(customer=Francesco Celotti, product_name='Product_46', product_code='P046')\n",
            "Order created successfully: Order(customer=Emil Christmann, product_name='Product_47', product_code='P047')\n",
            "Order created successfully: Order(customer=Herbert Fuller Chaffee, product_name='Product_48', product_code='P048')\n",
            "Order creation failed: Customer Bertram Frank Dean is blacklisted and cannot place an order.\n",
            "Order created successfully: Order(customer=Daniel Coxon, product_name='Product_50', product_code='P050')\n",
            "Order created successfully: Order(customer=Charles Joseph Shorney, product_name='Product_51', product_code='P051')\n",
            "Order created successfully: Order(customer=George B Goldschmidt, product_name='Product_52', product_code='P052')\n",
            "Order created successfully: Order(customer=William Bertram Greenfield, product_name='Product_53', product_code='P053')\n",
            "Order created successfully: Order(customer=Sinai Kantor, product_name='Product_54', product_code='P054')\n",
            "Order created successfully: Order(customer=Matilda Petranec, product_name='Product_55', product_code='P055')\n",
            "Order creation failed: Customer Gustaf Joel Johansson is blacklisted and cannot place an order.\n",
            "Order created successfully: Order(customer=Anders Vilhelm Gustafsson, product_name='Product_57', product_code='P057')\n",
            "Order created successfully: Order(customer=Stoytcho Mionoff, product_name='Product_58', product_code='P058')\n",
            "Order created successfully: Order(customer=Albert Johan Moss, product_name='Product_59', product_code='P059')\n",
            "Order created successfully: Order(customer=Tido Rekic, product_name='Product_60', product_code='P060')\n",
            "Order created successfully: Order(customer=Bertha Moran, product_name='Product_61', product_code='P061')\n",
            "Order created successfully: Order(customer=Walter Chamberlain Porter, product_name='Product_62', product_code='P062')\n",
            "Order creation failed: Customer David John Barton is blacklisted and cannot place an order.\n",
            "Order created successfully: Order(customer=Patrick Connors, product_name='Product_64', product_code='P064')\n",
            "Order created successfully: Order(customer=William John Robert Turpin, product_name='Product_65', product_code='P065')\n",
            "Order created successfully: Order(customer=Quigg Edmond Baxter, product_name='Product_66', product_code='P066')\n",
            "Order created successfully: Order(customer=Leonard Charles Moore, product_name='Product_67', product_code='P067')\n",
            "Order created successfully: Order(customer=Nicholas Nasser, product_name='Product_68', product_code='P068')\n",
            "Order created successfully: Order(customer=Susan Webber, product_name='Product_69', product_code='P069')\n",
            "Order creation failed: Customer Percival Wayland White is blacklisted and cannot place an order.\n",
            "Order created successfully: Order(customer=Martin McMahon, product_name='Product_71', product_code='P071')\n",
            "Order created successfully: Order(customer=Fridtjof Arne Madsen, product_name='Product_72', product_code='P072')\n",
            "Order created successfully: Order(customer=Anna Peter, product_name='Product_73', product_code='P073')\n",
            "Order created successfully: Order(customer=Johan Ekstrom, product_name='Product_74', product_code='P074')\n",
            "Order created successfully: Order(customer=Jozef Drazenoic, product_name='Product_75', product_code='P075')\n",
            "Order created successfully: Order(customer=Samuel James Hayden Sobey, product_name='Product_76', product_code='P076')\n",
            "Order creation failed: Customer Emile Richard is blacklisted and cannot place an order.\n",
            "Order created successfully: Order(customer=Jacques Heath Futrelle, product_name='Product_78', product_code='P078')\n",
            "Order created successfully: Order(customer=Victor Giglio, product_name='Product_79', product_code='P079')\n",
            "Order created successfully: Order(customer=Anna Sofia Nysten, product_name='Product_80', product_code='P080')\n",
            "Order created successfully: Order(customer=Thomas Roussel Davids Byles, product_name='Product_81', product_code='P081')\n",
            "Order created successfully: Order(customer=Robert James Bateman, product_name='Product_82', product_code='P082')\n",
            "Order created successfully: Order(customer=Alfonzo Meo, product_name='Product_83', product_code='P083')\n",
            "Order creation failed: Customer Austin Blyler van Billiard is blacklisted and cannot place an order.\n",
            "Order created successfully: Order(customer=Ole Martin Olsen, product_name='Product_85', product_code='P085')\n",
            "Order created successfully: Order(customer=Charles Duane Williams, product_name='Product_86', product_code='P086')\n",
            "Order created successfully: Order(customer=Harry Corn, product_name='Product_87', product_code='P087')\n",
            "Order created successfully: Order(customer=Mile Smiljanic, product_name='Product_88', product_code='P088')\n",
            "Order created successfully: Order(customer=Thomas Henry Sage, product_name='Product_89', product_code='P089')\n",
            "Order created successfully: Order(customer=John Hatfield Cribb, product_name='Product_90', product_code='P090')\n",
            "Order creation failed: Customer John Viktor Bengtsson is blacklisted and cannot place an order.\n",
            "Order created successfully: Order(customer=John D Baumann, product_name='Product_92', product_code='P092')\n",
            "Order created successfully: Order(customer=Lee Ling, product_name='Product_93', product_code='P093')\n",
            "Order created successfully: Order(customer=Wyckoff Van der hoef, product_name='Product_94', product_code='P094')\n",
            "Order created successfully: Order(customer=James Clinch Smith, product_name='Product_95', product_code='P095')\n",
            "Order created successfully: Order(customer=Henry Forbes Lefebre, product_name='Product_96', product_code='P096')\n",
            "Order created successfully: Order(customer=Ann Elizabeth Isham, product_name='Product_97', product_code='P097')\n",
            "Order creation failed: Customer Reginald Hale is blacklisted and cannot place an order.\n",
            "Order created successfully: Order(customer=Lionel Leonard, product_name='Product_99', product_code='P099')\n",
            "Order created successfully: Order(customer=Constance Gladys Sage, product_name='Product_100', product_code='P100')\n",
            "Order created successfully: Order(customer=Rene Pernot, product_name='Product_101', product_code='P101')\n",
            "Order created successfully: Order(customer=Hugh Roscoe Rood, product_name='Product_102', product_code='P102')\n",
            "Order created successfully: Order(customer=John Bourke, product_name='Product_103', product_code='P103')\n",
            "Order created successfully: Order(customer=Stjepan Turcin, product_name='Product_104', product_code='P104')\n",
            "Order creation failed: Customer Elise Lurette is blacklisted and cannot place an order.\n",
            "Order created successfully: Order(customer=Robert Mernagh, product_name='Product_106', product_code='P106')\n",
            "Order created successfully: Order(customer=Karl Siegwart Andreas Olsen, product_name='Product_107', product_code='P107')\n",
            "Order created successfully: Order(customer=Nestor Cyriel Vande Walle, product_name='Product_108', product_code='P108')\n",
            "Order created successfully: Order(customer=Frederick Sage, product_name='Product_109', product_code='P109')\n",
            "Order created successfully: Order(customer=Jakob Alfred Johanson, product_name='Product_110', product_code='P110')\n",
            "Order created successfully: Order(customer=Gerious Youseff, product_name='Product_111', product_code='P111')\n",
            "Order creation failed: Customer Karl Alfred Backstrom is blacklisted and cannot place an order.\n",
            "Order created successfully: Order(customer=Nassef Cassem Albimona, product_name='Product_113', product_code='P113')\n",
            "Order created successfully: Order(customer=Henry Blank, product_name='Product_114', product_code='P114')\n",
            "Order created successfully: Order(customer=Ahmed Ali, product_name='Product_115', product_code='P115')\n",
            "Order created successfully: Order(customer=Clear Annie Cameron, product_name='Product_116', product_code='P116')\n",
            "Order created successfully: Order(customer=John Henry Perkin, product_name='Product_117', product_code='P117')\n",
            "Order created successfully: Order(customer=Hans Kristensen Givard, product_name='Product_118', product_code='P118')\n",
            "Order creation failed: Customer Philip Kiernan is blacklisted and cannot place an order.\n",
            "Order created successfully: Order(customer=Madeleine Newell, product_name='Product_120', product_code='P120')\n",
            "Order created successfully: Order(customer=Eliina Honkanen, product_name='Product_121', product_code='P121')\n",
            "Order created successfully: Order(customer=Sidney Samuel Jacobsohn, product_name='Product_122', product_code='P122')\n",
            "Order created successfully: Order(customer=Albina Bazzani, product_name='Product_123', product_code='P123')\n",
            "Order created successfully: Order(customer=Walter Harris, product_name='Product_124', product_code='P124')\n",
            "Order created successfully: Order(customer=James H Bracken, product_name='Product_125', product_code='P125')\n",
            "Order creation failed: Customer George Henry Green is blacklisted and cannot place an order.\n",
            "Order created successfully: Order(customer=Christo Nenkoff, product_name='Product_127', product_code='P127')\n",
            "Order created successfully: Order(customer=Frederick Maxfield Hoyt, product_name='Product_128', product_code='P128')\n",
            "Order created successfully: Order(customer=Karl Ivar Sven Berglund, product_name='Product_129', product_code='P129')\n",
            "Order created successfully: Order(customer=Mathilde Lefebre, product_name='Product_130', product_code='P130')\n",
            "Order created successfully: Order(customer=Bengt Edvin Larsson, product_name='Product_131', product_code='P131')\n",
            "Order created successfully: Order(customer=Ernst Adolf Sjostedt, product_name='Product_132', product_code='P132')\n",
            "Order creation failed: Customer Robert William Norman Leyson is blacklisted and cannot place an order.\n",
            "Order created successfully: Order(customer=Alice Phoebe Harknett, product_name='Product_134', product_code='P134')\n",
            "Order created successfully: Order(customer=Stephen Hold, product_name='Product_135', product_code='P135')\n",
            "Order created successfully: Order(customer=George Henry Hunt, product_name='Product_136', product_code='P136')\n",
            "Order created successfully: Order(customer=Thamine Zabour, product_name='Product_137', product_code='P137')\n",
            "Order created successfully: Order(customer=Reginald Charles Coleridge, product_name='Product_138', product_code='P138')\n",
            "Order created successfully: Order(customer=Matti Alexanteri Maenpaa, product_name='Product_139', product_code='P139')\n",
            "Order creation failed: Customer Sleiman Attalah is blacklisted and cannot place an order.\n",
            "Order created successfully: Order(customer=William Edward Minahan, product_name='Product_141', product_code='P141')\n",
            "Order created successfully: Order(customer=Agda Thorilda Viktoria Lindahl, product_name='Product_142', product_code='P142')\n",
            "Order created successfully: Order(customer=Richard Leonard Beckwith, product_name='Product_143', product_code='P143')\n",
            "Order created successfully: Order(customer=Ernest Courtenay Carter, product_name='Product_144', product_code='P144')\n",
            "Order created successfully: Order(customer=James George Reed, product_name='Product_145', product_code='P145')\n",
            "Order created successfully: Order(customer=William Thomas Stead, product_name='Product_146', product_code='P146')\n",
            "Order creation failed: Customer William Arthur Lobb is blacklisted and cannot place an order.\n",
            "Order created successfully: Order(customer=Gertrude Maybelle Thorne, product_name='Product_148', product_code='P148')\n",
            "Order created successfully: Order(customer=Gladys Cherry, product_name='Product_149', product_code='P149')\n",
            "Order created successfully: Order(customer=Anna Ward, product_name='Product_150', product_code='P150')\n",
            "Order created successfully: Order(customer=Thomas Smith, product_name='Product_151', product_code='P151')\n",
            "Order created successfully: Order(customer=Emil Taussig, product_name='Product_152', product_code='P152')\n",
            "Order created successfully: Order(customer=William Harrison, product_name='Product_153', product_code='P153')\n",
            "Order creation failed: Customer Delia Henry is blacklisted and cannot place an order.\n",
            "Order created successfully: Order(customer=David Reeves, product_name='Product_155', product_code='P155')\n",
            "Order created successfully: Order(customer=Ernst Ulrik Persson, product_name='Product_156', product_code='P156')\n",
            "Order created successfully: Order(customer=Amelia Bissette, product_name='Product_157', product_code='P157')\n",
            "Order created successfully: Order(customer=Alexander Cairns, product_name='Product_158', product_code='P158')\n",
            "Order created successfully: Order(customer=William Henry Tornquist, product_name='Product_159', product_code='P159')\n",
            "Order created successfully: Order(customer=Charles H Natsch, product_name='Product_160', product_code='P160')\n",
            "Order creation failed: Customer Kornelia Theodosia Andrews is blacklisted and cannot place an order.\n",
            "Order created successfully: Order(customer=Augusta Charlotta Lindblom, product_name='Product_162', product_code='P162')\n",
            "Order created successfully: Order(customer=Frank Duane, product_name='Product_163', product_code='P163')\n",
            "Order created successfully: Order(customer=Nils Johan Goransson Olsson, product_name='Product_164', product_code='P164')\n",
            "Order created successfully: Order(customer=Richard William Smith, product_name='Product_165', product_code='P165')\n",
            "Order created successfully: Order(customer=Ivan Stankovic, product_name='Product_166', product_code='P166')\n",
            "Order created successfully: Order(customer=Theodore de Mulder, product_name='Product_167', product_code='P167')\n",
            "Order creation failed: Customer Penko Naidenoff is blacklisted and cannot place an order.\n",
            "Order created successfully: Order(customer=Masabumi Hosono, product_name='Product_169', product_code='P169')\n",
            "Order created successfully: Order(customer=Kate Connolly, product_name='Product_170', product_code='P170')\n",
            "Order created successfully: Order(customer=Rene Jacques Levy, product_name='Product_171', product_code='P171')\n",
            "Order created successfully: Order(customer=Aloisia Haas, product_name='Product_172', product_code='P172')\n",
            "Order created successfully: Order(customer=Ivan Mineff, product_name='Product_173', product_code='P173')\n",
            "Order created successfully: Order(customer=Ervin G Lewy, product_name='Product_174', product_code='P174')\n",
            "Order creation failed: Customer Mansour Hanna is blacklisted and cannot place an order.\n",
            "Order created successfully: Order(customer=Adolphe Saalfeld, product_name='Product_176', product_code='P176')\n",
            "Order created successfully: Order(customer=Bernard McCoy, product_name='Product_177', product_code='P177')\n",
            "Order created successfully: Order(customer=Nora A Keane, product_name='Product_178', product_code='P178')\n",
            "Order created successfully: Order(customer=Margaret Fleming, product_name='Product_179', product_code='P179')\n",
            "Order created successfully: Order(customer=Samuel Abelson, product_name='Product_180', product_code='P180')\n",
            "Order created successfully: Order(customer=Laura Mabel Francatelli, product_name='Product_181', product_code='P181')\n",
            "Order creation failed: Customer Margaret Bechstein Hays is blacklisted and cannot place an order.\n",
            "Order created successfully: Order(customer=Ignjac Hendekovic, product_name='Product_183', product_code='P183')\n",
            "Order created successfully: Order(customer=Benjamin Hart, product_name='Product_184', product_code='P184')\n",
            "Order created successfully: Order(customer=Helmina Josefina Nilsson, product_name='Product_185', product_code='P185')\n",
            "Order created successfully: Order(customer=Ernest Moraweck, product_name='Product_186', product_code='P186')\n",
            "Order created successfully: Order(customer=Mary Natalie Wick, product_name='Product_187', product_code='P187')\n",
            "Order created successfully: Order(customer=Samuel Dennis, product_name='Product_188', product_code='P188')\n",
            "Order creation failed: Customer Yoto Danoff is blacklisted and cannot place an order.\n",
            "Order created successfully: Order(customer=Hilda Mary Slayter, product_name='Product_190', product_code='P190')\n",
            "Order created successfully: Order(customer=George John Jr Sage, product_name='Product_191', product_code='P191')\n",
            "Order created successfully: Order(customer=Marie Grice Young, product_name='Product_192', product_code='P192')\n",
            "Order created successfully: Order(customer=Johan Hansen Nysveen, product_name='Product_193', product_code='P193')\n",
            "Order created successfully: Order(customer=Agnes McCoy, product_name='Product_194', product_code='P194')\n",
            "Order created successfully: Order(customer=Austen Partner, product_name='Product_195', product_code='P195')\n",
            "Order creation failed: Customer George Edward Graham is blacklisted and cannot place an order.\n",
            "Order created successfully: Order(customer=Mitto Denkoff, product_name='Product_197', product_code='P197')\n",
            "Order created successfully: Order(customer=Thomas Clinton Pears, product_name='Product_198', product_code='P198')\n",
            "Order created successfully: Order(customer=Elizabeth Margaret Burns, product_name='Product_199', product_code='P199')\n",
            "Order created successfully: Order(customer=Karl Edwart Dahl, product_name='Product_200', product_code='P200')\n",
            "Order created successfully: Order(customer=Stephen Weart Blackwell, product_name='Product_201', product_code='P201')\n",
            "Order created successfully: Order(customer=Alice Elizabeth Fortune, product_name='Product_202', product_code='P202')\n",
            "Order creation failed: Customer Erik Gustaf Collander is blacklisted and cannot place an order.\n",
            "Order created successfully: Order(customer=Charles Frederick Waddington Sedgwick, product_name='Product_204', product_code='P204')\n",
            "Order created successfully: Order(customer=Stanley Hubert Fox, product_name='Product_205', product_code='P205')\n",
            "Order created successfully: Order(customer=Marion Elsie Smith, product_name='Product_206', product_code='P206')\n",
            "Order created successfully: Order(customer=Jovan Dimic, product_name='Product_207', product_code='P207')\n",
            "Order created successfully: Order(customer=Nils Martin Odahl, product_name='Product_208', product_code='P208')\n",
            "Order created successfully: Order(customer=Fletcher Fellows Williams-Lambert, product_name='Product_209', product_code='P209')\n",
            "Order creation failed: Customer Josef Arnold-Franchi is blacklisted and cannot place an order.\n",
            "Order created successfully: Order(customer=Wazli Yousif, product_name='Product_211', product_code='P211')\n",
            "Order created successfully: Order(customer=Leo Peter Vanden Steen, product_name='Product_212', product_code='P212')\n",
            "Order created successfully: Order(customer=Elsie Edith Bowerman, product_name='Product_213', product_code='P213')\n",
            "Order created successfully: Order(customer=Annie Clemmer Funk, product_name='Product_214', product_code='P214')\n",
            "Order created successfully: Order(customer=Mary McGovern, product_name='Product_215', product_code='P215')\n",
            "Order created successfully: Order(customer=Wilhelm Skoog, product_name='Product_216', product_code='P216')\n",
            "Order creation failed: Customer Sebastiano del Carlo is blacklisted and cannot place an order.\n",
            "Order created successfully: Order(customer=Adola Asim, product_name='Product_218', product_code='P218')\n",
            "Order created successfully: Order(customer=Mauritz Nils Martin Adahl, product_name='Product_219', product_code='P219')\n",
            "Order created successfully: Order(customer=Annie Jermyn, product_name='Product_220', product_code='P220')\n",
            "Order created successfully: Order(customer=Leontine Pauline Aubart, product_name='Product_221', product_code='P221')\n",
            "Order created successfully: Order(customer=George Achilles Harder, product_name='Product_222', product_code='P222')\n",
            "Order created successfully: Order(customer=Sante Ringhini, product_name='Product_223', product_code='P223')\n",
            "Order creation failed: Customer Aurora Adelia Landergren is blacklisted and cannot place an order.\n",
            "Order created successfully: Order(customer=Harry Elkins Widener, product_name='Product_225', product_code='P225')\n",
            "Order created successfully: Order(customer=Rosalie Bidois, product_name='Product_226', product_code='P226')\n",
            "Order created successfully: Order(customer=Juho Tikkanen, product_name='Product_227', product_code='P227')\n",
            "Order created successfully: Order(customer=Vasil Plotcharsky, product_name='Product_228', product_code='P228')\n",
            "Order created successfully: Order(customer=Kate Buss, product_name='Product_229', product_code='P229')\n",
            "Order created successfully: Order(customer=Matthew Sadlier, product_name='Product_230', product_code='P230')\n",
            "Order creation failed: Customer William Ernest Carter is blacklisted and cannot place an order.\n",
            "Order created successfully: Order(customer=Johan Birger Gustafsson, product_name='Product_232', product_code='P232')\n",
            "Order created successfully: Order(customer=Marjorie Newell, product_name='Product_233', product_code='P233')\n",
            "Order created successfully: Order(customer=Erik Johansson, product_name='Product_234', product_code='P234')\n",
            "Order created successfully: Order(customer=Elina Olsson, product_name='Product_235', product_code='P235')\n",
            "Order created successfully: Order(customer=Peter David McKane, product_name='Product_236', product_code='P236')\n",
            "Order created successfully: Order(customer=Alfred Pain, product_name='Product_237', product_code='P237')\n",
            "Order creation failed: Customer Juha Niskanen is blacklisted and cannot place an order.\n",
            "Order created successfully: Order(customer=John Adams, product_name='Product_239', product_code='P239')\n",
            "Order created successfully: Order(customer=Pekka Pietari Hakkarainen, product_name='Product_240', product_code='P240')\n",
            "Order created successfully: Order(customer=Shadrach Gale, product_name='Product_241', product_code='P241')\n",
            "Order created successfully: Order(customer=Carl/Charles Peter Widegren, product_name='Product_242', product_code='P242')\n",
            "Order created successfully: Order(customer=Ida Lefebre, product_name='Product_243', product_code='P243')\n",
            "Order created successfully: Order(customer=Todor Sdycoff, product_name='Product_244', product_code='P244')\n",
            "Order creation failed: Customer Henry Hart is blacklisted and cannot place an order.\n",
            "Order created successfully: Order(customer=Daisy E Minahan, product_name='Product_246', product_code='P246')\n",
            "Order created successfully: Order(customer=Alfred Fleming Cunningham, product_name='Product_247', product_code='P247')\n",
            "Order created successfully: Order(customer=Johan Julian Sundman, product_name='Product_248', product_code='P248')\n",
            "Order created successfully: Order(customer=William John Matthews, product_name='Product_249', product_code='P249')\n",
            "Order created successfully: Order(customer=Stanio Gheorgheff, product_name='Product_250', product_code='P250')\n",
            "Order created successfully: Order(customer=Leo Zimmerman, product_name='Product_251', product_code='P251')\n",
            "Order creation failed: Customer Phillippe Wiseman is blacklisted and cannot place an order.\n",
            "Order created successfully: Order(customer=James Flynn, product_name='Product_253', product_code='P253')\n",
            "Order created successfully: Order(customer=Mauritz Hakan Bjornstrom-Steffansson, product_name='Product_254', product_code='P254')\n",
            "Order created successfully: Order(customer=William Baird Silvey, product_name='Product_255', product_code='P255')\n",
            "Order created successfully: Order(customer=Mark Fortune, product_name='Product_256', product_code='P256')\n",
            "Order created successfully: Order(customer=Johan Henrik Johannesson Kvillner, product_name='Product_257', product_code='P257')\n",
            "Order created successfully: Order(customer=Johan Emil Petterson, product_name='Product_258', product_code='P258')\n",
            "Order creation failed: Customer Encarnacion Reynaldo is blacklisted and cannot place an order.\n",
            "Order created successfully: Order(customer=Bernt Johannesen-Bratthammer, product_name='Product_260', product_code='P260')\n",
            "Order created successfully: Order(customer=Frederic Kimber Seward, product_name='Product_261', product_code='P261')\n",
            "Order created successfully: Order(customer=Arthur Godfrey Peuchen, product_name='Product_262', product_code='P262')\n",
            "Order created successfully: Order(customer=Edwy Arthur West, product_name='Product_263', product_code='P263')\n",
            "Order created successfully: Order(customer=Ingvald Olai Olsen Hagland, product_name='Product_264', product_code='P264')\n",
            "Order created successfully: Order(customer=Benjamin Laventall Foreman, product_name='Product_265', product_code='P265')\n",
            "Order creation failed: Customer Samuel L Goldenberg is blacklisted and cannot place an order.\n",
            "Order created successfully: Order(customer=Joseph Peduzzi, product_name='Product_267', product_code='P267')\n",
            "Order created successfully: Order(customer=Ivan Jalsevac, product_name='Product_268', product_code='P268')\n",
            "Order created successfully: Order(customer=Francis Davis Millet, product_name='Product_269', product_code='P269')\n",
            "Order created successfully: Order(customer=Ellen Toomey, product_name='Product_270', product_code='P270')\n",
            "Order created successfully: Order(customer=Harry Anderson, product_name='Product_271', product_code='P271')\n",
            "Order created successfully: Order(customer=William Morley, product_name='Product_272', product_code='P272')\n",
            "Order creation failed: Customer Arthur H Gee is blacklisted and cannot place an order.\n",
            "Order created successfully: Order(customer=Jacob Christian Milling, product_name='Product_274', product_code='P274')\n",
            "Order created successfully: Order(customer=Simon Maisner, product_name='Product_275', product_code='P275')\n",
            "Order created successfully: Order(customer=Manuel Estanslas Goncalves, product_name='Product_276', product_code='P276')\n",
            "Order created successfully: Order(customer=William Campbell, product_name='Product_277', product_code='P277')\n",
            "Order created successfully: Order(customer=John Montgomery Smart, product_name='Product_278', product_code='P278')\n",
            "Order created successfully: Order(customer=James Scanlan, product_name='Product_279', product_code='P279')\n",
            "Order creation failed: Customer Arthur Keefe is blacklisted and cannot place an order.\n",
            "Order created successfully: Order(customer=Luka Cacic, product_name='Product_281', product_code='P281')\n",
            "Order created successfully: Order(customer=Ida Sofia Strandberg, product_name='Product_282', product_code='P282')\n",
            "Order created successfully: Order(customer=George Quincy Clifford, product_name='Product_283', product_code='P283')\n",
            "Order created successfully: Order(customer=Peter Henry Renouf, product_name='Product_284', product_code='P284')\n",
            "Order created successfully: Order(customer=Lewis Richard Braund, product_name='Product_285', product_code='P285')\n",
            "Order created successfully: Order(customer=Nils August Karlsson, product_name='Product_286', product_code='P286')\n",
            "Order creation failed: Customer Richard Henry Rouse is blacklisted and cannot place an order.\n",
            "Order created successfully: Order(customer=Dickinson H Bishop, product_name='Product_288', product_code='P288')\n",
            "Order created successfully: Order(customer=Jeannie Lefebre, product_name='Product_289', product_code='P289')\n",
            "Order created successfully: Order(customer=Edward Austin Kent, product_name='Product_290', product_code='P290')\n",
            "Order created successfully: Order(customer=Francis William Somerton, product_name='Product_291', product_code='P291')\n",
            "Order created successfully: Order(customer=Konrad Mathias Reiersen Hagland, product_name='Product_292', product_code='P292')\n",
            "Order created successfully: Order(customer=Harry Markland Molson, product_name='Product_293', product_code='P293')\n",
            "Order creation failed: Customer Ramon Artagaveytia is blacklisted and cannot place an order.\n",
            "Order created successfully: Order(customer=Gerious Yousseff, product_name='Product_295', product_code='P295')\n",
            "Order created successfully: Order(customer=Elizabeth Mussey Eustis, product_name='Product_296', product_code='P296')\n",
            "Order created successfully: Order(customer=Frederick William Shellard, product_name='Product_297', product_code='P297')\n",
            "Order created successfully: Order(customer=Olof Svensson, product_name='Product_298', product_code='P298')\n",
            "Order created successfully: Order(customer=Kristina Sofia Laitinen, product_name='Product_299', product_code='P299')\n",
            "Order created successfully: Order(customer=Henry Margido Olsen, product_name='Product_300', product_code='P300')\n",
            "Order creation failed: Customer Fang Lang is blacklisted and cannot place an order.\n",
            "Order created successfully: Order(customer=Eugene Patrick Daly, product_name='Product_302', product_code='P302')\n",
            "Order created successfully: Order(customer=James Webber, product_name='Product_303', product_code='P303')\n",
            "Order created successfully: Order(customer=James Robert McGough, product_name='Product_304', product_code='P304')\n",
            "Order created successfully: Order(customer=Satio Coleff, product_name='Product_305', product_code='P305')\n",
            "Order created successfully: Order(customer=William Anderson Walker, product_name='Product_306', product_code='P306')\n",
            "Order created successfully: Order(customer=Patrick Ryan, product_name='Product_307', product_code='P307')\n",
            "Order creation failed: Customer Stefo Pavlovic is blacklisted and cannot place an order.\n",
            "Order created successfully: Order(customer=Anne Perreault, product_name='Product_309', product_code='P309')\n",
            "Order created successfully: Order(customer=Janko Vovk, product_name='Product_310', product_code='P310')\n",
            "Order created successfully: Order(customer=Sarkis Lahoud, product_name='Product_311', product_code='P311')\n",
            "Order created successfully: Order(customer=Fared Kassem, product_name='Product_312', product_code='P312')\n",
            "Order created successfully: Order(customer=James Farrell, product_name='Product_313', product_code='P313')\n",
            "Order created successfully: Order(customer=Lucy Ridsdale, product_name='Product_314', product_code='P314')\n",
            "Order creation failed: Customer John Farthing is blacklisted and cannot place an order.\n",
            "Order created successfully: Order(customer=Johan Werner Salonen, product_name='Product_316', product_code='P316')\n",
            "Order created successfully: Order(customer=Richard George Hocking, product_name='Product_317', product_code='P317')\n",
            "Order created successfully: Order(customer=Nakli Toufik, product_name='Product_318', product_code='P318')\n",
            "Order created successfully: Order(customer=Marija Cacic, product_name='Product_319', product_code='P319')\n",
            "Order created successfully: Order(customer=Archibald Willingham Butt, product_name='Product_320', product_code='P320')\n",
            "Order created successfully: Order(customer=Bertha LeRoy, product_name='Product_321', product_code='P321')\n",
            "Order creation failed: Customer Samuel Beard Risien is blacklisted and cannot place an order.\n",
            "Order created successfully: Order(customer=Hedwig Margaritha Frolicher, product_name='Product_323', product_code='P323')\n",
            "Order created successfully: Order(customer=Harriet R Crosby, product_name='Product_324', product_code='P324')\n",
            "Order created successfully: Order(customer=Edward Beane, product_name='Product_325', product_code='P325')\n",
            "Order created successfully: Order(customer=Walter Donald Douglas, product_name='Product_326', product_code='P326')\n",
            "Order created successfully: Order(customer=Arthur Ernest Nicholson, product_name='Product_327', product_code='P327')\n",
            "Order created successfully: Order(customer=Julian Padro y Manent, product_name='Product_328', product_code='P328')\n",
            "Order creation failed: Customer Frank John Goldsmith is blacklisted and cannot place an order.\n",
            "Order created successfully: Order(customer=Percival James R Sharp, product_name='Product_330', product_code='P330')\n",
            "Order created successfully: Order(customer=Velin Ohman, product_name='Product_331', product_code='P331')\n",
            "Order created successfully: Order(customer=George Wright, product_name='Product_332', product_code='P332')\n",
            "Order created successfully: Order(customer=Victor Robbins, product_name='Product_333', product_code='P333')\n",
            "Order created successfully: Order(customer=Thomas Rowan Morrow, product_name='Product_334', product_code='P334')\n",
            "Order created successfully: Order(customer=Husein Sivic, product_name='Product_335', product_code='P335')\n",
            "Order creation failed: Customer Robert Douglas Norman is blacklisted and cannot place an order.\n",
            "Order created successfully: Order(customer=John Simmons, product_name='Product_337', product_code='P337')\n",
            "Order created successfully: Order(customer=Alfred J Davies, product_name='Product_338', product_code='P338')\n",
            "Order created successfully: Order(customer=Tannous Doharr, product_name='Product_339', product_code='P339')\n",
            "Order created successfully: Order(customer=Carl Jonsson, product_name='Product_340', product_code='P340')\n",
            "Order created successfully: Order(customer=George Harris, product_name='Product_341', product_code='P341')\n",
            "Order created successfully: Order(customer=Mary Kelly, product_name='Product_342', product_code='P342')\n",
            "Order creation failed: Customer Ethel Garside is blacklisted and cannot place an order.\n",
            "Order created successfully: Order(customer=Eiriik Jussila, product_name='Product_344', product_code='P344')\n",
            "Order created successfully: Order(customer=Julie Rachel Christy, product_name='Product_345', product_code='P345')\n",
            "Order created successfully: Order(customer=William James Downton, product_name='Product_346', product_code='P346')\n",
            "Order created successfully: Order(customer=John Hugo Ross, product_name='Product_347', product_code='P347')\n",
            "Order created successfully: Order(customer=Uscher Paulner, product_name='Product_348', product_code='P348')\n",
            "Order created successfully: Order(customer=John Denzil Jarvis, product_name='Product_349', product_code='P349')\n",
            "Order creation failed: Customer Maxmillian Frolicher-Stehli is blacklisted and cannot place an order.\n",
            "Order created successfully: Order(customer=Eliezer Gilinski, product_name='Product_351', product_code='P351')\n",
            "Order created successfully: Order(customer=Joseph Murdlin, product_name='Product_352', product_code='P352')\n",
            "Order created successfully: Order(customer=Matti Rintamaki, product_name='Product_353', product_code='P353')\n",
            "Order created successfully: Order(customer=William James Elsbury, product_name='Product_354', product_code='P354')\n",
            "Order created successfully: Order(customer=Mary Bourke, product_name='Product_355', product_code='P355')\n",
            "Order created successfully: Order(customer=John Henry Chapman, product_name='Product_356', product_code='P356')\n",
            "Order creation failed: Customer Jean Baptiste Van Impe is blacklisted and cannot place an order.\n",
            "Order created successfully: Order(customer=Jessie Wills Leitch, product_name='Product_358', product_code='P358')\n",
            "Order created successfully: Order(customer=Alfred Johnson, product_name='Product_359', product_code='P359')\n",
            "Order created successfully: Order(customer=Hanna Boulos, product_name='Product_360', product_code='P360')\n",
            "Order created successfully: Order(customer=Petco Slabenoff, product_name='Product_361', product_code='P361')\n",
            "Order created successfully: Order(customer=Charles H Harrington, product_name='Product_362', product_code='P362')\n",
            "Order created successfully: Order(customer=Ernst William Torber, product_name='Product_363', product_code='P363')\n",
            "Order creation failed: Customer Edvard Bengtsson Lindell is blacklisted and cannot place an order.\n",
            "Order created successfully: Order(customer=Milan Karaic, product_name='Product_365', product_code='P365')\n",
            "Order created successfully: Order(customer=Robert Williams Daniel, product_name='Product_366', product_code='P366')\n",
            "Order created successfully: Order(customer=Elizabeth W Shutes, product_name='Product_367', product_code='P367')\n",
            "Order created successfully: Order(customer=Jose Neto Jardin, product_name='Product_368', product_code='P368')\n",
            "Order created successfully: Order(customer=Margaret Jane Murphy, product_name='Product_369', product_code='P369')\n",
            "Order created successfully: Order(customer=John Horgan, product_name='Product_370', product_code='P370')\n",
            "Order creation failed: Customer William Alfred Brocklebank is blacklisted and cannot place an order.\n",
            "Order created successfully: Order(customer=Alice Herman, product_name='Product_372', product_code='P372')\n",
            "Order created successfully: Order(customer=Ernst Gilbert Danbom, product_name='Product_373', product_code='P373')\n",
            "Order created successfully: Order(customer=Lawrence Gavey, product_name='Product_374', product_code='P374')\n",
            "Order created successfully: Order(customer=Antoni Yasbeck, product_name='Product_375', product_code='P375')\n",
            "Order created successfully: Order(customer=Edwin Nelson Jr Kimball, product_name='Product_376', product_code='P376')\n",
            "Order created successfully: Order(customer=Frederick Sutton, product_name='Product_377', product_code='P377')\n",
            "Order creation failed: Customer Charles Leonard Kirkland is blacklisted and cannot place an order.\n",
            "Order created successfully: Order(customer=Guentcho Bostandyeff, product_name='Product_379', product_code='P379')\n",
            "Order created successfully: Order(customer=Algernon Henry Wilson Barkworth, product_name='Product_380', product_code='P380')\n",
            "Order created successfully: Order(customer=Johan Svensson Lundahl, product_name='Product_381', product_code='P381')\n",
            "Order created successfully: Order(customer=Max Stahelin-Maeglin, product_name='Product_382', product_code='P382')\n",
            "Order created successfully: Order(customer=William Henry Marsh Parr, product_name='Product_383', product_code='P383')\n",
            "Order created successfully: Order(customer=Mary Davis, product_name='Product_384', product_code='P384')\n",
            "Order creation failed: Customer Antti Gustaf Leinonen is blacklisted and cannot place an order.\n",
            "Order created successfully: Order(customer=Harvey Collyer, product_name='Product_386', product_code='P386')\n",
            "Order created successfully: Order(customer=Percival Thorneycroft, product_name='Product_387', product_code='P387')\n",
            "Order created successfully: Order(customer=Emma Sagesser, product_name='Product_388', product_code='P388')\n",
            "Order created successfully: Order(customer=Choong Foo, product_name='Product_389', product_code='P389')\n",
            "Order created successfully: Order(customer=Henry Sleeper Harper, product_name='Product_390', product_code='P390')\n",
            "Order created successfully: Order(customer=Oberst Alfons Simonius-Blumer, product_name='Product_391', product_code='P391')\n",
            "Order creation failed: Customer Edward Willey is blacklisted and cannot place an order.\n",
            "Order created successfully: Order(customer=Amy Zillah Elsie Stanley, product_name='Product_393', product_code='P393')\n",
            "Order created successfully: Order(customer=Mito Mitkoff, product_name='Product_394', product_code='P394')\n",
            "Order created successfully: Order(customer=Leonard Mark Hickman, product_name='Product_395', product_code='P395')\n",
            "Order created successfully: Order(customer=Alexander Radeff, product_name='Product_396', product_code='P396')\n",
            "Order created successfully: Order(customer=George Floyd Eitemiller, product_name='Product_397', product_code='P397')\n",
            "Order created successfully: Order(customer=Arthur Webster Newell, product_name='Product_398', product_code='P398')\n",
            "Order creation failed: Customer Henry William Frauenthal is blacklisted and cannot place an order.\n",
            "Order created successfully: Order(customer=Mohamed Badt, product_name='Product_400', product_code='P400')\n",
            "Order created successfully: Order(customer=Edward Pomeroy Colley, product_name='Product_401', product_code='P401')\n",
            "Order created successfully: Order(customer=Peju Coleff, product_name='Product_402', product_code='P402')\n",
            "Order created successfully: Order(customer=Lewis Hickman, product_name='Product_403', product_code='P403')\n",
            "Order created successfully: Order(customer=Reginald Fenton Butler, product_name='Product_404', product_code='P404')\n",
            "Order created successfully: Order(customer=Knud Paust Rommetvedt, product_name='Product_405', product_code='P405')\n",
            "Order creation failed: Customer Jacob Cook is blacklisted and cannot place an order.\n",
            "Order created successfully: Order(customer=Thornton Davidson, product_name='Product_407', product_code='P407')\n",
            "Order created successfully: Order(customer=Henry Michael Mitchell, product_name='Product_408', product_code='P408')\n",
            "Order created successfully: Order(customer=Charles Wilhelms, product_name='Product_409', product_code='P409')\n",
            "Order created successfully: Order(customer=Ennis Hastings Watson, product_name='Product_410', product_code='P410')\n",
            "Order created successfully: Order(customer=Frederick Charles Sawyer, product_name='Product_411', product_code='P411')\n",
            "Order created successfully: Order(customer=Thomas Drake Martinez Cardeza, product_name='Product_412', product_code='P412')\n",
            "Order creation failed: Customer Katie Peters is blacklisted and cannot place an order.\n",
            "Order created successfully: Order(customer=Hammad Hassab, product_name='Product_414', product_code='P414')\n",
            "Order created successfully: Order(customer=Thomas William Solomon Brown, product_name='Product_415', product_code='P415')\n",
            "Order created successfully: Order(customer=Joseph Philippe Lemercier Laroche, product_name='Product_416', product_code='P416')\n",
            "Order created successfully: Order(customer=Albert Adrian Dick, product_name='Product_417', product_code='P417')\n",
            "Order created successfully: Order(customer=Ali Lam, product_name='Product_418', product_code='P418')\n",
            "Order created successfully: Order(customer=Khalil Saad, product_name='Product_419', product_code='P419')\n",
            "Order creation failed: Customer John Weir is blacklisted and cannot place an order.\n",
            "Order created successfully: Order(customer=Charles Henry Chapman, product_name='Product_421', product_code='P421')\n",
            "Order created successfully: Order(customer=James Kelly, product_name='Product_422', product_code='P422')\n",
            "Order created successfully: Order(customer=John Borland Thayer, product_name='Product_423', product_code='P423')\n",
            "Order created successfully: Order(customer=Adolf Mathias Nicolai Olsen Humblen, product_name='Product_424', product_code='P424')\n",
            "Order created successfully: Order(customer=Spencer Victor Silverthorne, product_name='Product_425', product_code='P425')\n",
            "Order created successfully: Order(customer=Martin Gallagher, product_name='Product_426', product_code='P426')\n",
            "Order creation failed: Customer Henrik Juul Hansen is blacklisted and cannot place an order.\n",
            "Order created successfully: Order(customer=Edward Pennington Calderhead, product_name='Product_428', product_code='P428')\n",
            "Order created successfully: Order(customer=Alice Cleaver, product_name='Product_429', product_code='P429')\n",
            "Order created successfully: Order(customer=Herman Klaber, product_name='Product_430', product_code='P430')\n",
            "Order created successfully: Order(customer=Elmer Zebley Taylor, product_name='Product_431', product_code='P431')\n",
            "Order created successfully: Order(customer=August Viktor Larsson, product_name='Product_432', product_code='P432')\n",
            "Order created successfully: Order(customer=Samuel Greenberg, product_name='Product_433', product_code='P433')\n",
            "Order creation failed: Customer Caroline Louise Endres is blacklisted and cannot place an order.\n",
            "Order created successfully: Order(customer=Michael McEvoy, product_name='Product_435', product_code='P435')\n",
            "Order created successfully: Order(customer=Malkolm Joackim Johnson, product_name='Product_436', product_code='P436')\n",
            "Order created successfully: Order(customer=William Henry Gillespie, product_name='Product_437', product_code='P437')\n",
            "Order created successfully: Order(customer=Henry Price Hodges, product_name='Product_438', product_code='P438')\n",
            "Order created successfully: Order(customer=Norman Campbell Chambers, product_name='Product_439', product_code='P439')\n",
            "Order created successfully: Order(customer=Margareth Mannion, product_name='Product_440', product_code='P440')\n",
            "Order creation failed: Customer Kurt Arnold Gottfrid Bryhl is blacklisted and cannot place an order.\n",
            "Order created successfully: Order(customer=Pieta Sofia Ilmakangas, product_name='Product_442', product_code='P442')\n",
            "Order created successfully: Order(customer=Elisabeth Walton Allen, product_name='Product_443', product_code='P443')\n",
            "Order created successfully: Order(customer=Robert J Knight, product_name='Product_444', product_code='P444')\n",
            "Order created successfully: Order(customer=William John Berriman, product_name='Product_445', product_code='P445')\n",
            "Order created successfully: Order(customer=Moses Aaron Troupiansky, product_name='Product_446', product_code='P446')\n",
            "Order created successfully: Order(customer=Leslie Williams, product_name='Product_447', product_code='P447')\n",
            "Order creation failed: Customer Gustave J Lesurer is blacklisted and cannot place an order.\n",
            "Order created successfully: Order(customer=Kanio Ivanoff, product_name='Product_449', product_code='P449')\n",
            "Order created successfully: Order(customer=Minko Nankoff, product_name='Product_450', product_code='P450')\n",
            "Order created successfully: Order(customer=Walter James Hawksford, product_name='Product_451', product_code='P451')\n",
            "Order created successfully: Order(customer=Tyrell William Cavendish, product_name='Product_452', product_code='P452')\n",
            "Order created successfully: Order(customer=Neal McNamee, product_name='Product_453', product_code='P453')\n",
            "Order created successfully: Order(customer=Juho Stranden, product_name='Product_454', product_code='P454')\n",
            "Order creation failed: Customer Edward Gifford Crosby is blacklisted and cannot place an order.\n",
            "Order created successfully: Order(customer=Anna Sinkkonen, product_name='Product_456', product_code='P456')\n",
            "Order created successfully: Order(customer=Michael Connaghton, product_name='Product_457', product_code='P457')\n",
            "Order created successfully: Order(customer=Johannes Joseph Vande Velde, product_name='Product_458', product_code='P458')\n",
            "Order created successfully: Order(customer=Lalio Jonkoff, product_name='Product_459', product_code='P459')\n",
            "Order created successfully: Order(customer=August Sigfrid Carlsson, product_name='Product_460', product_code='P460')\n",
            "Order created successfully: Order(customer=Thomas Leonard Theobald, product_name='Product_461', product_code='P461')\n",
            "Order creation failed: Customer John Garfirth is blacklisted and cannot place an order.\n",
            "Order created successfully: Order(customer=Iisakki Antino Aijo Nirva, product_name='Product_463', product_code='P463')\n",
            "Order created successfully: Order(customer=Arthur Jackson Brewe, product_name='Product_464', product_code='P464')\n",
            "Order created successfully: Order(customer=Mary Mangan, product_name='Product_465', product_code='P465')\n",
            "Order created successfully: Order(customer=Daniel J Moran, product_name='Product_466', product_code='P466')\n",
            "Order created successfully: Order(customer=Daniel Danielsen Gronnestad, product_name='Product_467', product_code='P467')\n",
            "Order created successfully: Order(customer=Rene Aime Lievens, product_name='Product_468', product_code='P468')\n",
            "Order creation failed: Customer Niels Peder Jensen is blacklisted and cannot place an order.\n",
            "Order created successfully: Order(customer=Dibo Elias, product_name='Product_470', product_code='P470')\n",
            "Order created successfully: Order(customer=Roger Tobin, product_name='Product_471', product_code='P471')\n",
            "Order created successfully: Order(customer=Thomas J Kilgannon, product_name='Product_472', product_code='P472')\n",
            "Order created successfully: Order(customer=Milton Clyde Long, product_name='Product_473', product_code='P473')\n",
            "Order created successfully: Order(customer=Andrew G Johnston, product_name='Product_474', product_code='P474')\n",
            "Order created successfully: Order(customer=William Ali, product_name='Product_475', product_code='P475')\n",
            "Order creation failed: Customer Benjamin Guggenheim is blacklisted and cannot place an order.\n",
            "Order created successfully: Order(customer=Stella Anna Sage, product_name='Product_477', product_code='P477')\n",
            "Order created successfully: Order(customer=William Fisher Hoyt, product_name='Product_478', product_code='P478')\n",
            "Order created successfully: Order(customer=Ristiu Dantcheff, product_name='Product_479', product_code='P479')\n",
            "Order created successfully: Order(customer=Richard Otter, product_name='Product_480', product_code='P480')\n",
            "Order created successfully: Order(customer=Mara Osman, product_name='Product_481', product_code='P481')\n",
            "Order created successfully: Order(customer=Yousseff Ibrahim Shawah, product_name='Product_482', product_code='P482')\n",
            "Order creation failed: Customer Martin Ponesell is blacklisted and cannot place an order.\n",
            "Order created successfully: Order(customer=Oskar Arvid Hedman, product_name='Product_484', product_code='P484')\n",
            "Order created successfully: Order(customer=Karl Johan Johansson, product_name='Product_485', product_code='P485')\n",
            "Order created successfully: Order(customer=Thomas Jr Andrews, product_name='Product_486', product_code='P486')\n",
            "Order created successfully: Order(customer=August Meyer, product_name='Product_487', product_code='P487')\n",
            "Order created successfully: Order(customer=William Alexander, product_name='Product_488', product_code='P488')\n",
            "Order created successfully: Order(customer=James Lester, product_name='Product_489', product_code='P489')\n",
            "Order creation failed: Customer Richard James Slemen is blacklisted and cannot place an order.\n",
            "Order created successfully: Order(customer=Ernest Portage Tomlin, product_name='Product_491', product_code='P491')\n",
            "Order created successfully: Order(customer=Richard Fry, product_name='Product_492', product_code='P492')\n",
            "Order created successfully: Order(customer=Wendla Maria Heininen, product_name='Product_493', product_code='P493')\n",
            "Order created successfully: Order(customer=Albert Mallet, product_name='Product_494', product_code='P494')\n",
            "Order created successfully: Order(customer=John Fredrik Alexander Holm, product_name='Product_495', product_code='P495')\n",
            "Order created successfully: Order(customer=Nikola Lulic, product_name='Product_496', product_code='P496')\n",
            "Order creation failed: Customer John George Reuchlin is blacklisted and cannot place an order.\n",
            "Order created successfully: Order(customer=John Flynn, product_name='Product_498', product_code='P498')\n",
            "Order created successfully: Order(customer=Len Lam, product_name='Product_499', product_code='P499')\n",
            "Order created successfully: Order(customer=Thomas Joseph McCormack, product_name='Product_500', product_code='P500')\n",
            "Order created successfully: Order(customer=Amin Saad, product_name='Product_501', product_code='P501')\n",
            "Order created successfully: Order(customer=Albert Augustsson, product_name='Product_502', product_code='P502')\n",
            "Order created successfully: Order(customer=Sara Rebecca Compton, product_name='Product_503', product_code='P503')\n",
            "Order creation failed: Customer Maurice Sirota is blacklisted and cannot place an order.\n",
            "Order created successfully: Order(customer=Chang Chip, product_name='Product_505', product_code='P505')\n",
            "Order created successfully: Order(customer=Pierre Marechal, product_name='Product_506', product_code='P506')\n",
            "Order created successfully: Order(customer=Augusta Serepeca, product_name='Product_507', product_code='P507')\n",
            "Order created successfully: Order(customer=Peter L Lemberopolous, product_name='Product_508', product_code='P508')\n",
            "Order created successfully: Order(customer=Anthony Abbing, product_name='Product_509', product_code='P509')\n",
            "Order created successfully: Order(customer=Douglas Bullen Sage, product_name='Product_510', product_code='P510')\n",
            "Order creation failed: Customer Marin Markoff is blacklisted and cannot place an order.\n",
            "Order created successfully: Order(customer=John Harper, product_name='Product_512', product_code='P512')\n",
            "Order created successfully: Order(customer=Johan Svensson, product_name='Product_513', product_code='P513')\n",
            "Order created successfully: Order(customer=Peter Denis Daly, product_name='Product_514', product_code='P514')\n",
            "Order created successfully: Order(customer=Raihed Razi, product_name='Product_515', product_code='P515')\n",
            "Order created successfully: Order(customer=Claus Peter Hansen, product_name='Product_516', product_code='P516')\n",
            "Order created successfully: Order(customer=John William Gill, product_name='Product_517', product_code='P517')\n",
            "Order creation failed: Customer Asuncion Duran y More is blacklisted and cannot place an order.\n",
            "Order created successfully: Order(customer=Washington Augustus II Roebling, product_name='Product_519', product_code='P519')\n",
            "Order created successfully: Order(customer=Philemon van Melkebeke, product_name='Product_520', product_code='P520')\n",
            "Order created successfully: Order(customer=Cerin Balkic, product_name='Product_521', product_code='P521')\n",
            "Order created successfully: Order(customer=Frans Olof Carlsson, product_name='Product_522', product_code='P522')\n",
            "Order created successfully: Order(customer=Victor Vander Cruyssen, product_name='Product_523', product_code='P523')\n",
            "Order created successfully: Order(customer=Kristo Laleff, product_name='Product_524', product_code='P524')\n",
            "Order creation failed: Customer Johann Markun is blacklisted and cannot place an order.\n",
            "Order created successfully: Order(customer=Gerda Ulrika Dahlberg, product_name='Product_526', product_code='P526')\n",
            "Order created successfully: Order(customer=Frederick James Banfield, product_name='Product_527', product_code='P527')\n",
            "Order created successfully: Order(customer=Henry Jr Sutehall, product_name='Product_528', product_code='P528')\n",
            "Order created successfully: Order(customer=Juozas Montvila, product_name='Product_529', product_code='P529')\n",
            "Order created successfully: Order(customer=Karl Howell Behr, product_name='Product_530', product_code='P530')\n",
            "Order created successfully: Order(customer=Patrick Dooley, product_name='Product_531', product_code='P531')\n"
          ]
        }
      ]
    }
  ]
}
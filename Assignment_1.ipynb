{
  "nbformat": 4,
  "nbformat_minor": 0,
  "metadata": {
    "colab": {
      "provenance": [],
      "authorship_tag": "ABX9TyPxr1y/awlcJym5adNPVm55",
      "include_colab_link": true
    },
    "kernelspec": {
      "name": "python3",
      "display_name": "Python 3"
    },
    "language_info": {
      "name": "python"
    }
  },
  "cells": [
    {
      "cell_type": "markdown",
      "metadata": {
        "id": "view-in-github",
        "colab_type": "text"
      },
      "source": [
        "<a href=\"https://colab.research.google.com/github/coolksrini/edureka_python_course/blob/main/Assignment_1.ipynb\" target=\"_parent\"><img src=\"https://colab.research.google.com/assets/colab-badge.svg\" alt=\"Open In Colab\"/></a>"
      ]
    },
    {
      "cell_type": "markdown",
      "source": [
        "# 1. Write a program to find the factors of agiven number and check whether the factor is even or odd.\n",
        "> Hint: Use Loop with if-else statements"
      ],
      "metadata": {
        "id": "RpgZHN7wBN31"
      }
    },
    {
      "cell_type": "code",
      "source": [
        "def get_factors(num: int) -> list:\n",
        "  \"\"\"\n",
        "  Returns a list of factors of a given number.\n",
        "\n",
        "  Args:\n",
        "    num: An integer.\n",
        "\n",
        "  Returns:\n",
        "    A list of factors of the given number.\n",
        "  \"\"\"\n",
        "  factors = []\n",
        "  for i in range(1, num + 1):\n",
        "    if num % i == 0:\n",
        "      factors.append(i)\n",
        "\n",
        "      if i % 2 == 0:\n",
        "        print(f\"{i} is an even factor of {num}\")\n",
        "      else:\n",
        "        print(f\"{i} is an odd factor of {num}\")\n",
        "  return factors\n",
        "\n",
        "# Example usage\n",
        "get_factors(24)"
      ],
      "metadata": {
        "colab": {
          "base_uri": "https://localhost:8080/"
        },
        "id": "wnGFvwy9Btty",
        "outputId": "528481c5-9958-4ad0-d836-2ad538678a7d"
      },
      "execution_count": 10,
      "outputs": [
        {
          "output_type": "stream",
          "name": "stdout",
          "text": [
            "1 is an odd factor of 24\n",
            "2 is an even factor of 24\n",
            "3 is an odd factor of 24\n",
            "4 is an even factor of 24\n",
            "6 is an even factor of 24\n",
            "8 is an even factor of 24\n",
            "12 is an even factor of 24\n",
            "24 is an even factor of 24\n"
          ]
        },
        {
          "output_type": "execute_result",
          "data": {
            "text/plain": [
              "[1, 2, 3, 4, 6, 8, 12, 24]"
            ]
          },
          "metadata": {},
          "execution_count": 10
        }
      ]
    },
    {
      "cell_type": "markdown",
      "source": [
        "# 2. Write a code that accepts a sequence of words as input and prints the words in a sequence after sorting them alphabetically.\n",
        "> Hint: Use split() to split the string into a list and then apply sort()\n"
      ],
      "metadata": {
        "id": "qWN_oaAgBRHj"
      }
    },
    {
      "cell_type": "code",
      "source": [
        "def sort_words_alphabetically(words_sequence: str):\n",
        "  \"\"\"\n",
        "  Sorts a sequence of words alphabetically and prints them.\n",
        "\n",
        "  Args:\n",
        "    words_sequence: A string containing words separated by spaces.\n",
        "  \"\"\"\n",
        "  words = words_sequence.split()\n",
        "  words.sort()\n",
        "  print(\" \".join(words))\n",
        "\n",
        "# Example usage:\n",
        "sort_words_alphabetically(\"this is a test string\")"
      ],
      "metadata": {
        "colab": {
          "base_uri": "https://localhost:8080/"
        },
        "id": "qu8LIMWBDAk3",
        "outputId": "0a489ee9-be0f-4a53-b7f6-5c76483263a9"
      },
      "execution_count": 11,
      "outputs": [
        {
          "output_type": "stream",
          "name": "stdout",
          "text": [
            "a is string test this\n"
          ]
        }
      ]
    },
    {
      "cell_type": "markdown",
      "source": [
        "# 3. Write a program that will find all the numbers between 1000 and 3000 (both excluded) such that each digit of a number is an odd number. Print the number of such elements"
      ],
      "metadata": {
        "id": "wlkWIahLBbde"
      }
    },
    {
      "cell_type": "code",
      "source": [
        "count = 0\n",
        "for i in range(1001, 3000):\n",
        "    s = str(i)\n",
        "    if all(int(digit) % 2 != 0 for digit in s):\n",
        "        print(i)\n",
        "        count += 1\n",
        "print(f\"Count of elements: {count}\")"
      ],
      "metadata": {
        "colab": {
          "base_uri": "https://localhost:8080/"
        },
        "id": "YepMNqRvDrf-",
        "outputId": "c1b7ed72-db24-4a27-8797-8852f694f98a"
      },
      "execution_count": 12,
      "outputs": [
        {
          "output_type": "stream",
          "name": "stdout",
          "text": [
            "1111\n",
            "1113\n",
            "1115\n",
            "1117\n",
            "1119\n",
            "1131\n",
            "1133\n",
            "1135\n",
            "1137\n",
            "1139\n",
            "1151\n",
            "1153\n",
            "1155\n",
            "1157\n",
            "1159\n",
            "1171\n",
            "1173\n",
            "1175\n",
            "1177\n",
            "1179\n",
            "1191\n",
            "1193\n",
            "1195\n",
            "1197\n",
            "1199\n",
            "1311\n",
            "1313\n",
            "1315\n",
            "1317\n",
            "1319\n",
            "1331\n",
            "1333\n",
            "1335\n",
            "1337\n",
            "1339\n",
            "1351\n",
            "1353\n",
            "1355\n",
            "1357\n",
            "1359\n",
            "1371\n",
            "1373\n",
            "1375\n",
            "1377\n",
            "1379\n",
            "1391\n",
            "1393\n",
            "1395\n",
            "1397\n",
            "1399\n",
            "1511\n",
            "1513\n",
            "1515\n",
            "1517\n",
            "1519\n",
            "1531\n",
            "1533\n",
            "1535\n",
            "1537\n",
            "1539\n",
            "1551\n",
            "1553\n",
            "1555\n",
            "1557\n",
            "1559\n",
            "1571\n",
            "1573\n",
            "1575\n",
            "1577\n",
            "1579\n",
            "1591\n",
            "1593\n",
            "1595\n",
            "1597\n",
            "1599\n",
            "1711\n",
            "1713\n",
            "1715\n",
            "1717\n",
            "1719\n",
            "1731\n",
            "1733\n",
            "1735\n",
            "1737\n",
            "1739\n",
            "1751\n",
            "1753\n",
            "1755\n",
            "1757\n",
            "1759\n",
            "1771\n",
            "1773\n",
            "1775\n",
            "1777\n",
            "1779\n",
            "1791\n",
            "1793\n",
            "1795\n",
            "1797\n",
            "1799\n",
            "1911\n",
            "1913\n",
            "1915\n",
            "1917\n",
            "1919\n",
            "1931\n",
            "1933\n",
            "1935\n",
            "1937\n",
            "1939\n",
            "1951\n",
            "1953\n",
            "1955\n",
            "1957\n",
            "1959\n",
            "1971\n",
            "1973\n",
            "1975\n",
            "1977\n",
            "1979\n",
            "1991\n",
            "1993\n",
            "1995\n",
            "1997\n",
            "1999\n",
            "Count of elements: 125\n"
          ]
        }
      ]
    },
    {
      "cell_type": "markdown",
      "source": [
        "# 4. Write a program that accepts a string and calculates the number of letters and digits. Suppose if the entered string is: Edureka123 Then the output will be: LETTERS: -7 DIGITS: -3"
      ],
      "metadata": {
        "id": "Vr3eVN69BhvP"
      }
    },
    {
      "cell_type": "code",
      "source": [
        "def count_letters_digits(input_string: str):\n",
        "  \"\"\"\n",
        "  Calculates the number of letters and digits in a string.\n",
        "\n",
        "  Args:\n",
        "    input_string: The input string.\n",
        "  \"\"\"\n",
        "  letters = 0\n",
        "  digits = 0\n",
        "  for char in input_string:\n",
        "    if 'a' <= char <= 'z' or 'A' <= char <= 'Z':\n",
        "      letters += 1\n",
        "    elif '0' <= char <= '9':\n",
        "      digits += 1\n",
        "  print(f\"LETTERS: -{letters}\")\n",
        "  print(f\"DIGITS: -{digits}\")\n",
        "\n",
        "# Example usage:\n",
        "input_str = \"Edureka123\"\n",
        "count_letters_digits(input_str)"
      ],
      "metadata": {
        "colab": {
          "base_uri": "https://localhost:8080/"
        },
        "id": "b59ZOy2bE4ra",
        "outputId": "8a5f9c5a-174c-4089-b60f-6a8f737f49d1"
      },
      "execution_count": 14,
      "outputs": [
        {
          "output_type": "stream",
          "name": "stdout",
          "text": [
            "LETTERS: -7\n",
            "DIGITS: -3\n"
          ]
        }
      ]
    },
    {
      "cell_type": "markdown",
      "source": [
        "# 5. Design a code which will find whether the given number is Palindrome number or not."
      ],
      "metadata": {
        "id": "X4BX9QC1Boaz"
      }
    },
    {
      "cell_type": "code",
      "source": [
        "def is_palindrome_number(num: int) -> bool:\n",
        "  \"\"\"\n",
        "  Checks if a given number is a palindrome.\n",
        "\n",
        "  Args:\n",
        "    num: An integer.\n",
        "\n",
        "  Returns:\n",
        "    True if the number is a palindrome, False otherwise.\n",
        "  \"\"\"\n",
        "  # Convert the number to a string\n",
        "  num_str = str(num)\n",
        "  # Compare the string with its reverse\n",
        "  return num_str == num_str[::-1]\n",
        "\n",
        "# Example usage:\n",
        "number_to_check = 121\n",
        "if is_palindrome_number(number_to_check):\n",
        "  print(f\"{number_to_check} is a palindrome number.\")\n",
        "else:\n",
        "  print(f\"{number_to_check} is not a palindrome number.\")\n",
        "\n",
        "number_to_check = 123\n",
        "if is_palindrome_number(number_to_check):\n",
        "  print(f\"{number_to_check} is a palindrome number.\")\n",
        "else:\n",
        "  print(f\"{number_to_check} is not a palindrome number.\")\n"
      ],
      "metadata": {
        "colab": {
          "base_uri": "https://localhost:8080/"
        },
        "id": "0kj69HoXFHLw",
        "outputId": "2b35842b-dbce-4d6c-9435-ae4e7c75e65c"
      },
      "execution_count": 15,
      "outputs": [
        {
          "output_type": "stream",
          "name": "stdout",
          "text": [
            "121 is a palindrome number.\n",
            "123 is not a palindrome number.\n"
          ]
        }
      ]
    }
  ]
}